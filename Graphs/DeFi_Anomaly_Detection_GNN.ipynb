{
  "nbformat": 4,
  "nbformat_minor": 0,
  "metadata": {
    "colab": {
      "provenance": [],
      "machine_shape": "hm"
    },
    "kernelspec": {
      "name": "python3",
      "display_name": "Python 3"
    },
    "language_info": {
      "name": "python"
    },
    "gpuClass": "premium",
    "accelerator": "GPU"
  },
  "cells": [
    {
      "cell_type": "markdown",
      "source": [
        "## Install libraries"
      ],
      "metadata": {
        "id": "7T7WZy6Pjqpc"
      }
    },
    {
      "cell_type": "code",
      "source": [
        "!pip install pyg-lib torch-scatter torch-sparse torch-cluster torch-spline-conv torch-geometric -f https://data.pyg.org/whl/torch-1.13.0+cpu.html"
      ],
      "metadata": {
        "id": "NmE299H8NP7C"
      },
      "execution_count": null,
      "outputs": []
    },
    {
      "cell_type": "code",
      "source": [
        "!pip install networkx"
      ],
      "metadata": {
        "id": "9HyUJwh_XS5T"
      },
      "execution_count": null,
      "outputs": []
    },
    {
      "cell_type": "code",
      "source": [
        "!pip install pygod "
      ],
      "metadata": {
        "id": "I3o8I83LXh4d"
      },
      "execution_count": null,
      "outputs": []
    },
    {
      "cell_type": "code",
      "source": [
        "# check the memory - the graphs can be large\n",
        "!free -h"
      ],
      "metadata": {
        "colab": {
          "base_uri": "https://localhost:8080/"
        },
        "id": "FMx6C_yyOgx-",
        "outputId": "9784b2dd-789a-4998-cd51-a23ea938fede"
      },
      "execution_count": 6,
      "outputs": [
        {
          "output_type": "stream",
          "name": "stdout",
          "text": [
            "              total        used        free      shared  buff/cache   available\n",
            "Mem:            83G        787M         81G        1.2M        885M         81G\n",
            "Swap:            0B          0B          0B\n"
          ]
        }
      ]
    },
    {
      "cell_type": "code",
      "source": [
        "import sys\n",
        "import os\n",
        "import pandas as pd"
      ],
      "metadata": {
        "id": "aRz5HIPE8IND"
      },
      "execution_count": 1,
      "outputs": []
    },
    {
      "cell_type": "markdown",
      "source": [
        "## Mount Google Cloud Storage buckets"
      ],
      "metadata": {
        "id": "AYaTQCOjeRQB"
      }
    },
    {
      "cell_type": "code",
      "execution_count": 2,
      "metadata": {
        "id": "zBDQc4czY8NF"
      },
      "outputs": [],
      "source": [
        "from google.colab import auth\n",
        "auth.authenticate_user()"
      ]
    },
    {
      "cell_type": "code",
      "source": [
        "!echo \"deb http://packages.cloud.google.com/apt gcsfuse-bionic main\" > /etc/apt/sources.list.d/gcsfuse.list\n",
        "!curl https://packages.cloud.google.com/apt/doc/apt-key.gpg | apt-key add -\n",
        "!apt -qq update\n",
        "!apt -qq install gcsfuse"
      ],
      "metadata": {
        "id": "PpUPZU0SZTX9"
      },
      "execution_count": null,
      "outputs": []
    },
    {
      "cell_type": "code",
      "source": [
        "!mkdir /content/network-data/"
      ],
      "metadata": {
        "id": "tu8aRbdgZb4B"
      },
      "execution_count": 8,
      "outputs": []
    },
    {
      "cell_type": "code",
      "source": [
        "!gcsfuse tilek-bg-export /content/network-data"
      ],
      "metadata": {
        "colab": {
          "base_uri": "https://localhost:8080/"
        },
        "id": "micZO6zpOvIv",
        "outputId": "b432ccc0-2744-429d-ad82-d24a758aaced"
      },
      "execution_count": 9,
      "outputs": [
        {
          "output_type": "stream",
          "name": "stdout",
          "text": [
            "2022/12/11 18:36:26.561966 Start gcsfuse/0.41.9 (Go version go1.18.4) for app \"\" using mount point: /content/network-data\n",
            "2022/12/11 18:36:26.574041 Opening GCS connection...\n",
            "2022/12/11 18:36:26.752713 Mounting file system \"tilek-bg-export\"...\n",
            "2022/12/11 18:36:26.753182 File system has been successfully mounted.\n"
          ]
        }
      ]
    },
    {
      "cell_type": "code",
      "source": [
        "!mkdir /content/address-data/"
      ],
      "metadata": {
        "id": "uv4Sanwm6yQJ",
        "colab": {
          "base_uri": "https://localhost:8080/"
        },
        "outputId": "d895af27-c870-45b4-d669-f699cbb5d180"
      },
      "execution_count": 9,
      "outputs": [
        {
          "output_type": "stream",
          "name": "stdout",
          "text": [
            "mkdir: cannot create directory ‘/content/address-data/’: File exists\n"
          ]
        }
      ]
    },
    {
      "cell_type": "code",
      "source": [
        "!gcsfuse tilek-defi-network-data /content/address-data"
      ],
      "metadata": {
        "colab": {
          "base_uri": "https://localhost:8080/"
        },
        "id": "yBPRu7VDOyMM",
        "outputId": "67adaea9-4a99-436f-c560-15d409b0b2a7"
      },
      "execution_count": 11,
      "outputs": [
        {
          "output_type": "stream",
          "name": "stdout",
          "text": [
            "2022/12/11 18:36:33.346682 Start gcsfuse/0.41.9 (Go version go1.18.4) for app \"\" using mount point: /content/address-data\n",
            "2022/12/11 18:36:33.358826 Opening GCS connection...\n",
            "2022/12/11 18:36:33.547736 Mounting file system \"tilek-defi-network-data\"...\n",
            "2022/12/11 18:36:33.548003 File system has been successfully mounted.\n"
          ]
        }
      ]
    },
    {
      "cell_type": "code",
      "source": [
        "!ls /content/network-data/"
      ],
      "metadata": {
        "id": "VFoBrbC1ZtEp"
      },
      "execution_count": null,
      "outputs": []
    },
    {
      "cell_type": "code",
      "source": [
        "!ls /content/address-data/"
      ],
      "metadata": {
        "colab": {
          "base_uri": "https://localhost:8080/"
        },
        "id": "WQrlyUFb6_D6",
        "outputId": "43cf13c8-7d16-4ebd-9593-2502278d760e"
      },
      "execution_count": 3,
      "outputs": [
        {
          "output_type": "stream",
          "name": "stdout",
          "text": [
            "address_list.csv  edge_data  fraud-detection-dataset  node_data\n"
          ]
        }
      ]
    },
    {
      "cell_type": "markdown",
      "source": [
        "## Fetch data"
      ],
      "metadata": {
        "id": "6W-lIWmx1DJo"
      }
    },
    {
      "cell_type": "code",
      "source": [
        "# sample a subset of nodes\n",
        "\n",
        "df = pd.read_csv(\"/content/address-data/fraud-detection-dataset/transaction_dataset.csv\", sep=',')\n",
        "\n",
        "sample_df = df.sample(n=100)\n",
        "sample_df[sample_df.FLAG==1] "
      ],
      "metadata": {
        "colab": {
          "base_uri": "https://localhost:8080/",
          "height": 992
        },
        "id": "xKsffZyqHAUb",
        "outputId": "f76fa19b-ff7d-4d1c-c618-a8d38a664608"
      },
      "execution_count": 2,
      "outputs": [
        {
          "output_type": "execute_result",
          "data": {
            "text/plain": [
              "      Unnamed: 0  Index                                     Address  FLAG  \\\n",
              "9359        9359   1698  0xc71610821ac6042e52be9d7d76df4c425f30f41f     1   \n",
              "8152        8152    491  0x379ce20c018fb6301c1872c429ec7270ffa4dc5b     1   \n",
              "9586        9586   1925  0xe2bca95f5f33a981aaf51372b9596ff3837e0a5c     1   \n",
              "7848        7848    187  0x1494403137159bb0dc545d11963fdf797ea1ecab     1   \n",
              "7923        7923    262  0x1c40d1a1cac7c586b9509c565296f91c8441af9f     1   \n",
              "8568        8568    907  0x67fdeda858e1160ba88dda9b9626035c65dc7607     1   \n",
              "7820        7820    159  0x1038945a8acf315ffc97d54d3b4b72f3ed2fe2bb     1   \n",
              "9018        9018   1357  0x9d4b62503b4b7993182323effe6245f6d77e4413     1   \n",
              "9466        9466   1805  0xd42c3960d30f36c5a4e58d591180f58a34354641     1   \n",
              "9104        9104   1443  0xa746d613d9b3a267ad470e5ce980dbc12473247c     1   \n",
              "9339        9339   1678  0xc4536f5c11a478d6b5811fe2d0bd034b3588b105     1   \n",
              "7682        7682     21  0x024c344da7208e60356378a252dab771c34be111     1   \n",
              "8376        8376    715  0x4f96e55f53927dd720b2a88d910080bd97ccbe85     1   \n",
              "9757        9757   2096  0xf6713f25d2dfb22029a3d1ee8996f33f2705e494     1   \n",
              "8808        8808   1147  0x858457daa7e087ad74cdeeceab8419079bc2ca03     1   \n",
              "9416        9416   1755  0xcdba82888e4698c485abacf8c7ad87dc2221f378     1   \n",
              "8311        8311    650  0x4886df279cc4946941e26de30b4011a2e92d2009     1   \n",
              "9600        9600   1939  0xe432d9a9be076334474a6a35ede39b278686f923     1   \n",
              "9486        9486   1825  0xd71bfdfd1cf3f6c1dbb1040ef08cf7b067f9165f     1   \n",
              "9591        9591   1930  0xe3115696fc96b8b15bd7afb0213082be4595cdd8     1   \n",
              "8596        8596    935  0x6a1dea6f4c9d48035d855e8399e20e254f0ce1ac     1   \n",
              "\n",
              "      Avg min between sent tnx  Avg min between received tnx  \\\n",
              "9359                      0.00                          0.00   \n",
              "8152                      4.27                          0.00   \n",
              "9586                      0.00                          0.00   \n",
              "7848                      0.00                         19.35   \n",
              "7923                      0.00                        183.01   \n",
              "8568                      0.00                          0.00   \n",
              "7820                   3754.31                       9279.18   \n",
              "9018                      0.00                        726.18   \n",
              "9466                      0.00                          0.00   \n",
              "9104                      0.00                          0.00   \n",
              "9339                      0.00                        261.82   \n",
              "7682                      0.00                        269.49   \n",
              "8376                      0.00                          0.00   \n",
              "9757                      0.00                          0.00   \n",
              "8808                    262.68                        197.66   \n",
              "9416                      0.00                          0.00   \n",
              "8311                      0.00                        748.42   \n",
              "9600                      0.00                          0.00   \n",
              "9486                    406.05                        355.04   \n",
              "9591                      0.00                        185.88   \n",
              "8596                      0.00                        269.04   \n",
              "\n",
              "      Time Diff between first and last (Mins)  Sent tnx  Received Tnx  \\\n",
              "9359                                     0.00         0             0   \n",
              "8152                                    34.17         8             1   \n",
              "9586                                     0.00         0             0   \n",
              "7848                                 25707.98         1             4   \n",
              "7923                                  2990.05         1             7   \n",
              "8568                                     0.00         0             0   \n",
              "7820                                157959.30         5            15   \n",
              "9018                                386616.20         1            18   \n",
              "9466                                     0.00         0             0   \n",
              "9104                                     0.00         0             0   \n",
              "9339                                 23289.00         1             3   \n",
              "7682                                 16083.67         1            21   \n",
              "8376                                     0.00         0             0   \n",
              "9757                                     0.00         0             0   \n",
              "8808                                 50572.37       109           111   \n",
              "9416                                     0.00         0             0   \n",
              "8311                                  2245.27         0             3   \n",
              "9600                                     0.00         0             1   \n",
              "9486                                 11261.42         5            26   \n",
              "9591                                   557.63         0             3   \n",
              "8596                                  8050.05         1            17   \n",
              "\n",
              "      Number of Created Contracts  ...   ERC20 min val sent  \\\n",
              "9359                            0  ...                  0.0   \n",
              "8152                            0  ...               3000.0   \n",
              "9586                            0  ...                  NaN   \n",
              "7848                            0  ...                  0.0   \n",
              "7923                            0  ...                  0.0   \n",
              "8568                            0  ...                  0.0   \n",
              "7820                            0  ...                  NaN   \n",
              "9018                            0  ...                  0.0   \n",
              "9466                            0  ...                  NaN   \n",
              "9104                            0  ...                  NaN   \n",
              "9339                            0  ...                100.0   \n",
              "7682                            0  ...                  0.0   \n",
              "8376                            0  ...                  NaN   \n",
              "9757                            0  ...                  NaN   \n",
              "8808                            0  ...                  0.0   \n",
              "9416                            0  ...                  0.0   \n",
              "8311                            0  ...                100.0   \n",
              "9600                            0  ...                  0.0   \n",
              "9486                            0  ...                  NaN   \n",
              "9591                            0  ...                  0.0   \n",
              "8596                            0  ...                  0.0   \n",
              "\n",
              "       ERC20 max val sent   ERC20 avg val sent   ERC20 min val sent contract  \\\n",
              "9359                  0.0             0.000000                           0.0   \n",
              "8152               7000.0          3784.217286                           0.0   \n",
              "9586                  NaN                  NaN                           NaN   \n",
              "7848                  0.0             0.000000                           0.0   \n",
              "7923                  0.0             0.000000                           0.0   \n",
              "8568                  0.0             0.000000                           0.0   \n",
              "7820                  NaN                  NaN                           NaN   \n",
              "9018                  0.0             0.000000                           0.0   \n",
              "9466                  NaN                  NaN                           NaN   \n",
              "9104                  NaN                  NaN                           NaN   \n",
              "9339                100.0           100.000000                           0.0   \n",
              "7682                  0.0             0.000000                           0.0   \n",
              "8376                  NaN                  NaN                           NaN   \n",
              "9757                  NaN                  NaN                           NaN   \n",
              "8808             493245.0         14740.705480                           0.0   \n",
              "9416                  0.0             0.000000                           0.0   \n",
              "8311                100.0           100.000000                           0.0   \n",
              "9600                  0.0             0.000000                           0.0   \n",
              "9486                  NaN                  NaN                           NaN   \n",
              "9591                  0.0             0.000000                           0.0   \n",
              "8596                  0.0             0.000000                           0.0   \n",
              "\n",
              "       ERC20 max val sent contract   ERC20 avg val sent contract  \\\n",
              "9359                           0.0                           0.0   \n",
              "8152                           0.0                           0.0   \n",
              "9586                           NaN                           NaN   \n",
              "7848                           0.0                           0.0   \n",
              "7923                           0.0                           0.0   \n",
              "8568                           0.0                           0.0   \n",
              "7820                           NaN                           NaN   \n",
              "9018                           0.0                           0.0   \n",
              "9466                           NaN                           NaN   \n",
              "9104                           NaN                           NaN   \n",
              "9339                           0.0                           0.0   \n",
              "7682                           0.0                           0.0   \n",
              "8376                           NaN                           NaN   \n",
              "9757                           NaN                           NaN   \n",
              "8808                           0.0                           0.0   \n",
              "9416                           0.0                           0.0   \n",
              "8311                           0.0                           0.0   \n",
              "9600                           0.0                           0.0   \n",
              "9486                           NaN                           NaN   \n",
              "9591                           0.0                           0.0   \n",
              "8596                           0.0                           0.0   \n",
              "\n",
              "       ERC20 uniq sent token name   ERC20 uniq rec token name  \\\n",
              "9359                          0.0                         1.0   \n",
              "8152                          1.0                         2.0   \n",
              "9586                          NaN                         NaN   \n",
              "7848                          0.0                         1.0   \n",
              "7923                          0.0                         1.0   \n",
              "8568                          0.0                         1.0   \n",
              "7820                          NaN                         NaN   \n",
              "9018                          0.0                         4.0   \n",
              "9466                          NaN                         NaN   \n",
              "9104                          NaN                         NaN   \n",
              "9339                          1.0                         0.0   \n",
              "7682                          0.0                         1.0   \n",
              "8376                          NaN                         NaN   \n",
              "9757                          NaN                         NaN   \n",
              "8808                         34.0                        41.0   \n",
              "9416                          0.0                         1.0   \n",
              "8311                          1.0                         2.0   \n",
              "9600                          0.0                         1.0   \n",
              "9486                          NaN                         NaN   \n",
              "9591                          0.0                         2.0   \n",
              "8596                          0.0                         1.0   \n",
              "\n",
              "         ERC20 most sent token type   ERC20_most_rec_token_type  \n",
              "9359                                      Blockwell say NOTSAFU  \n",
              "8152                          Golem                       Golem  \n",
              "9586                            NaN                         NaN  \n",
              "7848                                                  INS Promo  \n",
              "7923                                      Blockwell say NOTSAFU  \n",
              "8568                                      Blockwell say NOTSAFU  \n",
              "7820                            NaN                         NaN  \n",
              "9018                                                 GSENetwork  \n",
              "9466                            NaN                         NaN  \n",
              "9104                            NaN                         NaN  \n",
              "9339  blockwell.ai KYC Casper Token                              \n",
              "7682                                      Blockwell say NOTSAFU  \n",
              "8376                            NaN                         NaN  \n",
              "9757                            NaN                         NaN  \n",
              "8808                           MCAP                        MCAP  \n",
              "9416                                      Blockwell say NOTSAFU  \n",
              "8311  blockwell.ai KYC Casper Token       Blockwell say NOTSAFU  \n",
              "9600                                      Blockwell say NOTSAFU  \n",
              "9486                            NaN                         NaN  \n",
              "9591                                      Blockwell say NOTSAFU  \n",
              "8596                                      Blockwell say NOTSAFU  \n",
              "\n",
              "[21 rows x 51 columns]"
            ],
            "text/html": [
              "\n",
              "  <div id=\"df-e13e65a1-9aac-42e6-bc33-b0a97014ddf5\">\n",
              "    <div class=\"colab-df-container\">\n",
              "      <div>\n",
              "<style scoped>\n",
              "    .dataframe tbody tr th:only-of-type {\n",
              "        vertical-align: middle;\n",
              "    }\n",
              "\n",
              "    .dataframe tbody tr th {\n",
              "        vertical-align: top;\n",
              "    }\n",
              "\n",
              "    .dataframe thead th {\n",
              "        text-align: right;\n",
              "    }\n",
              "</style>\n",
              "<table border=\"1\" class=\"dataframe\">\n",
              "  <thead>\n",
              "    <tr style=\"text-align: right;\">\n",
              "      <th></th>\n",
              "      <th>Unnamed: 0</th>\n",
              "      <th>Index</th>\n",
              "      <th>Address</th>\n",
              "      <th>FLAG</th>\n",
              "      <th>Avg min between sent tnx</th>\n",
              "      <th>Avg min between received tnx</th>\n",
              "      <th>Time Diff between first and last (Mins)</th>\n",
              "      <th>Sent tnx</th>\n",
              "      <th>Received Tnx</th>\n",
              "      <th>Number of Created Contracts</th>\n",
              "      <th>...</th>\n",
              "      <th>ERC20 min val sent</th>\n",
              "      <th>ERC20 max val sent</th>\n",
              "      <th>ERC20 avg val sent</th>\n",
              "      <th>ERC20 min val sent contract</th>\n",
              "      <th>ERC20 max val sent contract</th>\n",
              "      <th>ERC20 avg val sent contract</th>\n",
              "      <th>ERC20 uniq sent token name</th>\n",
              "      <th>ERC20 uniq rec token name</th>\n",
              "      <th>ERC20 most sent token type</th>\n",
              "      <th>ERC20_most_rec_token_type</th>\n",
              "    </tr>\n",
              "  </thead>\n",
              "  <tbody>\n",
              "    <tr>\n",
              "      <th>9359</th>\n",
              "      <td>9359</td>\n",
              "      <td>1698</td>\n",
              "      <td>0xc71610821ac6042e52be9d7d76df4c425f30f41f</td>\n",
              "      <td>1</td>\n",
              "      <td>0.00</td>\n",
              "      <td>0.00</td>\n",
              "      <td>0.00</td>\n",
              "      <td>0</td>\n",
              "      <td>0</td>\n",
              "      <td>0</td>\n",
              "      <td>...</td>\n",
              "      <td>0.0</td>\n",
              "      <td>0.0</td>\n",
              "      <td>0.000000</td>\n",
              "      <td>0.0</td>\n",
              "      <td>0.0</td>\n",
              "      <td>0.0</td>\n",
              "      <td>0.0</td>\n",
              "      <td>1.0</td>\n",
              "      <td></td>\n",
              "      <td>Blockwell say NOTSAFU</td>\n",
              "    </tr>\n",
              "    <tr>\n",
              "      <th>8152</th>\n",
              "      <td>8152</td>\n",
              "      <td>491</td>\n",
              "      <td>0x379ce20c018fb6301c1872c429ec7270ffa4dc5b</td>\n",
              "      <td>1</td>\n",
              "      <td>4.27</td>\n",
              "      <td>0.00</td>\n",
              "      <td>34.17</td>\n",
              "      <td>8</td>\n",
              "      <td>1</td>\n",
              "      <td>0</td>\n",
              "      <td>...</td>\n",
              "      <td>3000.0</td>\n",
              "      <td>7000.0</td>\n",
              "      <td>3784.217286</td>\n",
              "      <td>0.0</td>\n",
              "      <td>0.0</td>\n",
              "      <td>0.0</td>\n",
              "      <td>1.0</td>\n",
              "      <td>2.0</td>\n",
              "      <td>Golem</td>\n",
              "      <td>Golem</td>\n",
              "    </tr>\n",
              "    <tr>\n",
              "      <th>9586</th>\n",
              "      <td>9586</td>\n",
              "      <td>1925</td>\n",
              "      <td>0xe2bca95f5f33a981aaf51372b9596ff3837e0a5c</td>\n",
              "      <td>1</td>\n",
              "      <td>0.00</td>\n",
              "      <td>0.00</td>\n",
              "      <td>0.00</td>\n",
              "      <td>0</td>\n",
              "      <td>0</td>\n",
              "      <td>0</td>\n",
              "      <td>...</td>\n",
              "      <td>NaN</td>\n",
              "      <td>NaN</td>\n",
              "      <td>NaN</td>\n",
              "      <td>NaN</td>\n",
              "      <td>NaN</td>\n",
              "      <td>NaN</td>\n",
              "      <td>NaN</td>\n",
              "      <td>NaN</td>\n",
              "      <td>NaN</td>\n",
              "      <td>NaN</td>\n",
              "    </tr>\n",
              "    <tr>\n",
              "      <th>7848</th>\n",
              "      <td>7848</td>\n",
              "      <td>187</td>\n",
              "      <td>0x1494403137159bb0dc545d11963fdf797ea1ecab</td>\n",
              "      <td>1</td>\n",
              "      <td>0.00</td>\n",
              "      <td>19.35</td>\n",
              "      <td>25707.98</td>\n",
              "      <td>1</td>\n",
              "      <td>4</td>\n",
              "      <td>0</td>\n",
              "      <td>...</td>\n",
              "      <td>0.0</td>\n",
              "      <td>0.0</td>\n",
              "      <td>0.000000</td>\n",
              "      <td>0.0</td>\n",
              "      <td>0.0</td>\n",
              "      <td>0.0</td>\n",
              "      <td>0.0</td>\n",
              "      <td>1.0</td>\n",
              "      <td></td>\n",
              "      <td>INS Promo</td>\n",
              "    </tr>\n",
              "    <tr>\n",
              "      <th>7923</th>\n",
              "      <td>7923</td>\n",
              "      <td>262</td>\n",
              "      <td>0x1c40d1a1cac7c586b9509c565296f91c8441af9f</td>\n",
              "      <td>1</td>\n",
              "      <td>0.00</td>\n",
              "      <td>183.01</td>\n",
              "      <td>2990.05</td>\n",
              "      <td>1</td>\n",
              "      <td>7</td>\n",
              "      <td>0</td>\n",
              "      <td>...</td>\n",
              "      <td>0.0</td>\n",
              "      <td>0.0</td>\n",
              "      <td>0.000000</td>\n",
              "      <td>0.0</td>\n",
              "      <td>0.0</td>\n",
              "      <td>0.0</td>\n",
              "      <td>0.0</td>\n",
              "      <td>1.0</td>\n",
              "      <td></td>\n",
              "      <td>Blockwell say NOTSAFU</td>\n",
              "    </tr>\n",
              "    <tr>\n",
              "      <th>8568</th>\n",
              "      <td>8568</td>\n",
              "      <td>907</td>\n",
              "      <td>0x67fdeda858e1160ba88dda9b9626035c65dc7607</td>\n",
              "      <td>1</td>\n",
              "      <td>0.00</td>\n",
              "      <td>0.00</td>\n",
              "      <td>0.00</td>\n",
              "      <td>0</td>\n",
              "      <td>0</td>\n",
              "      <td>0</td>\n",
              "      <td>...</td>\n",
              "      <td>0.0</td>\n",
              "      <td>0.0</td>\n",
              "      <td>0.000000</td>\n",
              "      <td>0.0</td>\n",
              "      <td>0.0</td>\n",
              "      <td>0.0</td>\n",
              "      <td>0.0</td>\n",
              "      <td>1.0</td>\n",
              "      <td></td>\n",
              "      <td>Blockwell say NOTSAFU</td>\n",
              "    </tr>\n",
              "    <tr>\n",
              "      <th>7820</th>\n",
              "      <td>7820</td>\n",
              "      <td>159</td>\n",
              "      <td>0x1038945a8acf315ffc97d54d3b4b72f3ed2fe2bb</td>\n",
              "      <td>1</td>\n",
              "      <td>3754.31</td>\n",
              "      <td>9279.18</td>\n",
              "      <td>157959.30</td>\n",
              "      <td>5</td>\n",
              "      <td>15</td>\n",
              "      <td>0</td>\n",
              "      <td>...</td>\n",
              "      <td>NaN</td>\n",
              "      <td>NaN</td>\n",
              "      <td>NaN</td>\n",
              "      <td>NaN</td>\n",
              "      <td>NaN</td>\n",
              "      <td>NaN</td>\n",
              "      <td>NaN</td>\n",
              "      <td>NaN</td>\n",
              "      <td>NaN</td>\n",
              "      <td>NaN</td>\n",
              "    </tr>\n",
              "    <tr>\n",
              "      <th>9018</th>\n",
              "      <td>9018</td>\n",
              "      <td>1357</td>\n",
              "      <td>0x9d4b62503b4b7993182323effe6245f6d77e4413</td>\n",
              "      <td>1</td>\n",
              "      <td>0.00</td>\n",
              "      <td>726.18</td>\n",
              "      <td>386616.20</td>\n",
              "      <td>1</td>\n",
              "      <td>18</td>\n",
              "      <td>0</td>\n",
              "      <td>...</td>\n",
              "      <td>0.0</td>\n",
              "      <td>0.0</td>\n",
              "      <td>0.000000</td>\n",
              "      <td>0.0</td>\n",
              "      <td>0.0</td>\n",
              "      <td>0.0</td>\n",
              "      <td>0.0</td>\n",
              "      <td>4.0</td>\n",
              "      <td></td>\n",
              "      <td>GSENetwork</td>\n",
              "    </tr>\n",
              "    <tr>\n",
              "      <th>9466</th>\n",
              "      <td>9466</td>\n",
              "      <td>1805</td>\n",
              "      <td>0xd42c3960d30f36c5a4e58d591180f58a34354641</td>\n",
              "      <td>1</td>\n",
              "      <td>0.00</td>\n",
              "      <td>0.00</td>\n",
              "      <td>0.00</td>\n",
              "      <td>0</td>\n",
              "      <td>0</td>\n",
              "      <td>0</td>\n",
              "      <td>...</td>\n",
              "      <td>NaN</td>\n",
              "      <td>NaN</td>\n",
              "      <td>NaN</td>\n",
              "      <td>NaN</td>\n",
              "      <td>NaN</td>\n",
              "      <td>NaN</td>\n",
              "      <td>NaN</td>\n",
              "      <td>NaN</td>\n",
              "      <td>NaN</td>\n",
              "      <td>NaN</td>\n",
              "    </tr>\n",
              "    <tr>\n",
              "      <th>9104</th>\n",
              "      <td>9104</td>\n",
              "      <td>1443</td>\n",
              "      <td>0xa746d613d9b3a267ad470e5ce980dbc12473247c</td>\n",
              "      <td>1</td>\n",
              "      <td>0.00</td>\n",
              "      <td>0.00</td>\n",
              "      <td>0.00</td>\n",
              "      <td>0</td>\n",
              "      <td>0</td>\n",
              "      <td>0</td>\n",
              "      <td>...</td>\n",
              "      <td>NaN</td>\n",
              "      <td>NaN</td>\n",
              "      <td>NaN</td>\n",
              "      <td>NaN</td>\n",
              "      <td>NaN</td>\n",
              "      <td>NaN</td>\n",
              "      <td>NaN</td>\n",
              "      <td>NaN</td>\n",
              "      <td>NaN</td>\n",
              "      <td>NaN</td>\n",
              "    </tr>\n",
              "    <tr>\n",
              "      <th>9339</th>\n",
              "      <td>9339</td>\n",
              "      <td>1678</td>\n",
              "      <td>0xc4536f5c11a478d6b5811fe2d0bd034b3588b105</td>\n",
              "      <td>1</td>\n",
              "      <td>0.00</td>\n",
              "      <td>261.82</td>\n",
              "      <td>23289.00</td>\n",
              "      <td>1</td>\n",
              "      <td>3</td>\n",
              "      <td>0</td>\n",
              "      <td>...</td>\n",
              "      <td>100.0</td>\n",
              "      <td>100.0</td>\n",
              "      <td>100.000000</td>\n",
              "      <td>0.0</td>\n",
              "      <td>0.0</td>\n",
              "      <td>0.0</td>\n",
              "      <td>1.0</td>\n",
              "      <td>0.0</td>\n",
              "      <td>blockwell.ai KYC Casper Token</td>\n",
              "      <td></td>\n",
              "    </tr>\n",
              "    <tr>\n",
              "      <th>7682</th>\n",
              "      <td>7682</td>\n",
              "      <td>21</td>\n",
              "      <td>0x024c344da7208e60356378a252dab771c34be111</td>\n",
              "      <td>1</td>\n",
              "      <td>0.00</td>\n",
              "      <td>269.49</td>\n",
              "      <td>16083.67</td>\n",
              "      <td>1</td>\n",
              "      <td>21</td>\n",
              "      <td>0</td>\n",
              "      <td>...</td>\n",
              "      <td>0.0</td>\n",
              "      <td>0.0</td>\n",
              "      <td>0.000000</td>\n",
              "      <td>0.0</td>\n",
              "      <td>0.0</td>\n",
              "      <td>0.0</td>\n",
              "      <td>0.0</td>\n",
              "      <td>1.0</td>\n",
              "      <td></td>\n",
              "      <td>Blockwell say NOTSAFU</td>\n",
              "    </tr>\n",
              "    <tr>\n",
              "      <th>8376</th>\n",
              "      <td>8376</td>\n",
              "      <td>715</td>\n",
              "      <td>0x4f96e55f53927dd720b2a88d910080bd97ccbe85</td>\n",
              "      <td>1</td>\n",
              "      <td>0.00</td>\n",
              "      <td>0.00</td>\n",
              "      <td>0.00</td>\n",
              "      <td>0</td>\n",
              "      <td>0</td>\n",
              "      <td>0</td>\n",
              "      <td>...</td>\n",
              "      <td>NaN</td>\n",
              "      <td>NaN</td>\n",
              "      <td>NaN</td>\n",
              "      <td>NaN</td>\n",
              "      <td>NaN</td>\n",
              "      <td>NaN</td>\n",
              "      <td>NaN</td>\n",
              "      <td>NaN</td>\n",
              "      <td>NaN</td>\n",
              "      <td>NaN</td>\n",
              "    </tr>\n",
              "    <tr>\n",
              "      <th>9757</th>\n",
              "      <td>9757</td>\n",
              "      <td>2096</td>\n",
              "      <td>0xf6713f25d2dfb22029a3d1ee8996f33f2705e494</td>\n",
              "      <td>1</td>\n",
              "      <td>0.00</td>\n",
              "      <td>0.00</td>\n",
              "      <td>0.00</td>\n",
              "      <td>0</td>\n",
              "      <td>0</td>\n",
              "      <td>0</td>\n",
              "      <td>...</td>\n",
              "      <td>NaN</td>\n",
              "      <td>NaN</td>\n",
              "      <td>NaN</td>\n",
              "      <td>NaN</td>\n",
              "      <td>NaN</td>\n",
              "      <td>NaN</td>\n",
              "      <td>NaN</td>\n",
              "      <td>NaN</td>\n",
              "      <td>NaN</td>\n",
              "      <td>NaN</td>\n",
              "    </tr>\n",
              "    <tr>\n",
              "      <th>8808</th>\n",
              "      <td>8808</td>\n",
              "      <td>1147</td>\n",
              "      <td>0x858457daa7e087ad74cdeeceab8419079bc2ca03</td>\n",
              "      <td>1</td>\n",
              "      <td>262.68</td>\n",
              "      <td>197.66</td>\n",
              "      <td>50572.37</td>\n",
              "      <td>109</td>\n",
              "      <td>111</td>\n",
              "      <td>0</td>\n",
              "      <td>...</td>\n",
              "      <td>0.0</td>\n",
              "      <td>493245.0</td>\n",
              "      <td>14740.705480</td>\n",
              "      <td>0.0</td>\n",
              "      <td>0.0</td>\n",
              "      <td>0.0</td>\n",
              "      <td>34.0</td>\n",
              "      <td>41.0</td>\n",
              "      <td>MCAP</td>\n",
              "      <td>MCAP</td>\n",
              "    </tr>\n",
              "    <tr>\n",
              "      <th>9416</th>\n",
              "      <td>9416</td>\n",
              "      <td>1755</td>\n",
              "      <td>0xcdba82888e4698c485abacf8c7ad87dc2221f378</td>\n",
              "      <td>1</td>\n",
              "      <td>0.00</td>\n",
              "      <td>0.00</td>\n",
              "      <td>0.00</td>\n",
              "      <td>0</td>\n",
              "      <td>0</td>\n",
              "      <td>0</td>\n",
              "      <td>...</td>\n",
              "      <td>0.0</td>\n",
              "      <td>0.0</td>\n",
              "      <td>0.000000</td>\n",
              "      <td>0.0</td>\n",
              "      <td>0.0</td>\n",
              "      <td>0.0</td>\n",
              "      <td>0.0</td>\n",
              "      <td>1.0</td>\n",
              "      <td></td>\n",
              "      <td>Blockwell say NOTSAFU</td>\n",
              "    </tr>\n",
              "    <tr>\n",
              "      <th>8311</th>\n",
              "      <td>8311</td>\n",
              "      <td>650</td>\n",
              "      <td>0x4886df279cc4946941e26de30b4011a2e92d2009</td>\n",
              "      <td>1</td>\n",
              "      <td>0.00</td>\n",
              "      <td>748.42</td>\n",
              "      <td>2245.27</td>\n",
              "      <td>0</td>\n",
              "      <td>3</td>\n",
              "      <td>0</td>\n",
              "      <td>...</td>\n",
              "      <td>100.0</td>\n",
              "      <td>100.0</td>\n",
              "      <td>100.000000</td>\n",
              "      <td>0.0</td>\n",
              "      <td>0.0</td>\n",
              "      <td>0.0</td>\n",
              "      <td>1.0</td>\n",
              "      <td>2.0</td>\n",
              "      <td>blockwell.ai KYC Casper Token</td>\n",
              "      <td>Blockwell say NOTSAFU</td>\n",
              "    </tr>\n",
              "    <tr>\n",
              "      <th>9600</th>\n",
              "      <td>9600</td>\n",
              "      <td>1939</td>\n",
              "      <td>0xe432d9a9be076334474a6a35ede39b278686f923</td>\n",
              "      <td>1</td>\n",
              "      <td>0.00</td>\n",
              "      <td>0.00</td>\n",
              "      <td>0.00</td>\n",
              "      <td>0</td>\n",
              "      <td>1</td>\n",
              "      <td>0</td>\n",
              "      <td>...</td>\n",
              "      <td>0.0</td>\n",
              "      <td>0.0</td>\n",
              "      <td>0.000000</td>\n",
              "      <td>0.0</td>\n",
              "      <td>0.0</td>\n",
              "      <td>0.0</td>\n",
              "      <td>0.0</td>\n",
              "      <td>1.0</td>\n",
              "      <td></td>\n",
              "      <td>Blockwell say NOTSAFU</td>\n",
              "    </tr>\n",
              "    <tr>\n",
              "      <th>9486</th>\n",
              "      <td>9486</td>\n",
              "      <td>1825</td>\n",
              "      <td>0xd71bfdfd1cf3f6c1dbb1040ef08cf7b067f9165f</td>\n",
              "      <td>1</td>\n",
              "      <td>406.05</td>\n",
              "      <td>355.04</td>\n",
              "      <td>11261.42</td>\n",
              "      <td>5</td>\n",
              "      <td>26</td>\n",
              "      <td>0</td>\n",
              "      <td>...</td>\n",
              "      <td>NaN</td>\n",
              "      <td>NaN</td>\n",
              "      <td>NaN</td>\n",
              "      <td>NaN</td>\n",
              "      <td>NaN</td>\n",
              "      <td>NaN</td>\n",
              "      <td>NaN</td>\n",
              "      <td>NaN</td>\n",
              "      <td>NaN</td>\n",
              "      <td>NaN</td>\n",
              "    </tr>\n",
              "    <tr>\n",
              "      <th>9591</th>\n",
              "      <td>9591</td>\n",
              "      <td>1930</td>\n",
              "      <td>0xe3115696fc96b8b15bd7afb0213082be4595cdd8</td>\n",
              "      <td>1</td>\n",
              "      <td>0.00</td>\n",
              "      <td>185.88</td>\n",
              "      <td>557.63</td>\n",
              "      <td>0</td>\n",
              "      <td>3</td>\n",
              "      <td>0</td>\n",
              "      <td>...</td>\n",
              "      <td>0.0</td>\n",
              "      <td>0.0</td>\n",
              "      <td>0.000000</td>\n",
              "      <td>0.0</td>\n",
              "      <td>0.0</td>\n",
              "      <td>0.0</td>\n",
              "      <td>0.0</td>\n",
              "      <td>2.0</td>\n",
              "      <td></td>\n",
              "      <td>Blockwell say NOTSAFU</td>\n",
              "    </tr>\n",
              "    <tr>\n",
              "      <th>8596</th>\n",
              "      <td>8596</td>\n",
              "      <td>935</td>\n",
              "      <td>0x6a1dea6f4c9d48035d855e8399e20e254f0ce1ac</td>\n",
              "      <td>1</td>\n",
              "      <td>0.00</td>\n",
              "      <td>269.04</td>\n",
              "      <td>8050.05</td>\n",
              "      <td>1</td>\n",
              "      <td>17</td>\n",
              "      <td>0</td>\n",
              "      <td>...</td>\n",
              "      <td>0.0</td>\n",
              "      <td>0.0</td>\n",
              "      <td>0.000000</td>\n",
              "      <td>0.0</td>\n",
              "      <td>0.0</td>\n",
              "      <td>0.0</td>\n",
              "      <td>0.0</td>\n",
              "      <td>1.0</td>\n",
              "      <td></td>\n",
              "      <td>Blockwell say NOTSAFU</td>\n",
              "    </tr>\n",
              "  </tbody>\n",
              "</table>\n",
              "<p>21 rows × 51 columns</p>\n",
              "</div>\n",
              "      <button class=\"colab-df-convert\" onclick=\"convertToInteractive('df-e13e65a1-9aac-42e6-bc33-b0a97014ddf5')\"\n",
              "              title=\"Convert this dataframe to an interactive table.\"\n",
              "              style=\"display:none;\">\n",
              "        \n",
              "  <svg xmlns=\"http://www.w3.org/2000/svg\" height=\"24px\"viewBox=\"0 0 24 24\"\n",
              "       width=\"24px\">\n",
              "    <path d=\"M0 0h24v24H0V0z\" fill=\"none\"/>\n",
              "    <path d=\"M18.56 5.44l.94 2.06.94-2.06 2.06-.94-2.06-.94-.94-2.06-.94 2.06-2.06.94zm-11 1L8.5 8.5l.94-2.06 2.06-.94-2.06-.94L8.5 2.5l-.94 2.06-2.06.94zm10 10l.94 2.06.94-2.06 2.06-.94-2.06-.94-.94-2.06-.94 2.06-2.06.94z\"/><path d=\"M17.41 7.96l-1.37-1.37c-.4-.4-.92-.59-1.43-.59-.52 0-1.04.2-1.43.59L10.3 9.45l-7.72 7.72c-.78.78-.78 2.05 0 2.83L4 21.41c.39.39.9.59 1.41.59.51 0 1.02-.2 1.41-.59l7.78-7.78 2.81-2.81c.8-.78.8-2.07 0-2.86zM5.41 20L4 18.59l7.72-7.72 1.47 1.35L5.41 20z\"/>\n",
              "  </svg>\n",
              "      </button>\n",
              "      \n",
              "  <style>\n",
              "    .colab-df-container {\n",
              "      display:flex;\n",
              "      flex-wrap:wrap;\n",
              "      gap: 12px;\n",
              "    }\n",
              "\n",
              "    .colab-df-convert {\n",
              "      background-color: #E8F0FE;\n",
              "      border: none;\n",
              "      border-radius: 50%;\n",
              "      cursor: pointer;\n",
              "      display: none;\n",
              "      fill: #1967D2;\n",
              "      height: 32px;\n",
              "      padding: 0 0 0 0;\n",
              "      width: 32px;\n",
              "    }\n",
              "\n",
              "    .colab-df-convert:hover {\n",
              "      background-color: #E2EBFA;\n",
              "      box-shadow: 0px 1px 2px rgba(60, 64, 67, 0.3), 0px 1px 3px 1px rgba(60, 64, 67, 0.15);\n",
              "      fill: #174EA6;\n",
              "    }\n",
              "\n",
              "    [theme=dark] .colab-df-convert {\n",
              "      background-color: #3B4455;\n",
              "      fill: #D2E3FC;\n",
              "    }\n",
              "\n",
              "    [theme=dark] .colab-df-convert:hover {\n",
              "      background-color: #434B5C;\n",
              "      box-shadow: 0px 1px 3px 1px rgba(0, 0, 0, 0.15);\n",
              "      filter: drop-shadow(0px 1px 2px rgba(0, 0, 0, 0.3));\n",
              "      fill: #FFFFFF;\n",
              "    }\n",
              "  </style>\n",
              "\n",
              "      <script>\n",
              "        const buttonEl =\n",
              "          document.querySelector('#df-e13e65a1-9aac-42e6-bc33-b0a97014ddf5 button.colab-df-convert');\n",
              "        buttonEl.style.display =\n",
              "          google.colab.kernel.accessAllowed ? 'block' : 'none';\n",
              "\n",
              "        async function convertToInteractive(key) {\n",
              "          const element = document.querySelector('#df-e13e65a1-9aac-42e6-bc33-b0a97014ddf5');\n",
              "          const dataTable =\n",
              "            await google.colab.kernel.invokeFunction('convertToInteractive',\n",
              "                                                     [key], {});\n",
              "          if (!dataTable) return;\n",
              "\n",
              "          const docLinkHtml = 'Like what you see? Visit the ' +\n",
              "            '<a target=\"_blank\" href=https://colab.research.google.com/notebooks/data_table.ipynb>data table notebook</a>'\n",
              "            + ' to learn more about interactive tables.';\n",
              "          element.innerHTML = '';\n",
              "          dataTable['output_type'] = 'display_data';\n",
              "          await google.colab.output.renderOutput(dataTable, element);\n",
              "          const docLink = document.createElement('div');\n",
              "          docLink.innerHTML = docLinkHtml;\n",
              "          element.appendChild(docLink);\n",
              "        }\n",
              "      </script>\n",
              "    </div>\n",
              "  </div>\n",
              "  "
            ]
          },
          "metadata": {},
          "execution_count": 2
        }
      ]
    },
    {
      "cell_type": "code",
      "source": [
        "flags = {}\n",
        "\n",
        "for ind, row in df.iterrows():\n",
        "  flags[row['Address']] = row['FLAG']\n",
        "\n",
        "# flags"
      ],
      "metadata": {
        "id": "p3S6yyeeFBET"
      },
      "execution_count": null,
      "outputs": []
    },
    {
      "cell_type": "code",
      "source": [
        "selected_addr = set(sample_df['Address'].tolist())\n",
        "# selected_addr"
      ],
      "metadata": {
        "id": "FJzpZANSIrKO"
      },
      "execution_count": 3,
      "outputs": []
    },
    {
      "cell_type": "code",
      "source": [
        "address_index = {}\n",
        "selected_addr_list = list(selected_addr)\n",
        "\n",
        "for i in range(len(selected_addr_list)):\n",
        "  address_index[selected_addr_list[i]] = i"
      ],
      "metadata": {
        "id": "geJP9xKlJEBM"
      },
      "execution_count": 4,
      "outputs": []
    },
    {
      "cell_type": "code",
      "source": [
        "root_data_dir = \"/content/network-data/\"\n",
        "\n",
        "node_a = []\n",
        "node_b = []\n",
        "timestamps = []\n",
        "values = []\n",
        "\n",
        "files = os.listdir(root_data_dir)\n",
        "\n",
        "count = 0\n",
        "\n",
        "for f in files:\n",
        "\n",
        "  if f.find('.csv') >= 0:\n",
        "\n",
        "    print('processing: ', f)\n",
        "\n",
        "    df = pd.read_csv(root_data_dir+f)\n",
        "    df = df.dropna()\n",
        "\n",
        "    df['tstamp'] =  pd.to_datetime(df['block_timestamp'], format='%Y-%m-%d %H:%M:%S UTC')\n",
        "    df['epochs'] = df['tstamp'].map(pd.Timestamp.timestamp).astype('int32')\n",
        "\n",
        "    df.value = df.value.astype('float')\n",
        "    df.value = df.value / 10**18\n",
        "\n",
        "    from_addr = df['from_address'].tolist()\n",
        "    to_addr = df['to_address'].tolist()\n",
        "    cur_timestamps = df['epochs'].tolist()\n",
        "    cur_val= df['value'].tolist()\n",
        "\n",
        "    for i in range(len(from_addr)):\n",
        "      if from_addr[i] in selected_addr or to_addr[i] in selected_addr:\n",
        "\n",
        "        if from_addr[i] in address_index:\n",
        "          cur_from_index = address_index[from_addr[i]]\n",
        "        else:\n",
        "          cur_from_index = len(address_index)\n",
        "          address_index[from_addr[i]] = cur_from_index\n",
        "\n",
        "        if to_addr[i] in address_index:\n",
        "          cur_to_index = address_index[to_addr[i]]\n",
        "        else:\n",
        "          cur_to_index = len(address_index)\n",
        "          address_index[to_addr[i]] = cur_to_index\n",
        "\n",
        "        node_a.append(cur_from_index)\n",
        "        node_b.append(cur_to_index)\n",
        "\n",
        "        timestamps.append(cur_timestamps[i])\n",
        "        values.append(cur_val[i])\n",
        "\n",
        "    # count += 1\n",
        "    # if count == 10:\n",
        "    #   break\n",
        "\n",
        "    del df"
      ],
      "metadata": {
        "id": "YY_oqGHyP5AX"
      },
      "execution_count": null,
      "outputs": []
    },
    {
      "cell_type": "code",
      "source": [
        "len(node_a), len(node_b), len(timestamps), len(values), len(address_index)"
      ],
      "metadata": {
        "colab": {
          "base_uri": "https://localhost:8080/"
        },
        "id": "1BoRClArSci4",
        "outputId": "f368931b-2ca5-425a-85f5-328e4d6099f4"
      },
      "execution_count": 6,
      "outputs": [
        {
          "output_type": "execute_result",
          "data": {
            "text/plain": [
              "(37702, 37702, 37702, 37702, 1866)"
            ]
          },
          "metadata": {},
          "execution_count": 6
        }
      ]
    },
    {
      "cell_type": "code",
      "source": [
        "len(selected_addr)"
      ],
      "metadata": {
        "colab": {
          "base_uri": "https://localhost:8080/"
        },
        "id": "qIpG6r78jJnD",
        "outputId": "56f367a0-8e3d-437b-d1e3-56528650ffa8"
      },
      "execution_count": 7,
      "outputs": [
        {
          "output_type": "execute_result",
          "data": {
            "text/plain": [
              "100"
            ]
          },
          "metadata": {},
          "execution_count": 7
        }
      ]
    },
    {
      "cell_type": "markdown",
      "source": [
        "## Large graph (SKIP)"
      ],
      "metadata": {
        "id": "kxDLMi4ZQMvu"
      }
    },
    {
      "cell_type": "code",
      "source": [
        "address_index = {}\n",
        "\n",
        "with open(\"/content/address-data/address_list.csv\", \"r\") as f:\n",
        "  address_lines = f.readlines()\n",
        "\n",
        "for i in range(1, len(address_lines)):\n",
        "  cur_addr = address_lines[i].replace('\\n', '')\n",
        "  address_index[cur_addr] = i-1\n",
        "\n",
        "del address_lines\n",
        "\n",
        "mem_size = sys.getsizeof(address_index)\n",
        "print('lookup table size: ', round(mem_size/1024/1025, 2), ' MB')"
      ],
      "metadata": {
        "colab": {
          "base_uri": "https://localhost:8080/"
        },
        "id": "_8Iaby0P7CKB",
        "outputId": "b9975789-a74a-46dc-c509-dbdac63d2661"
      },
      "execution_count": null,
      "outputs": [
        {
          "output_type": "stream",
          "name": "stdout",
          "text": [
            "lookup table size:  319.69  MB\n"
          ]
        }
      ]
    },
    {
      "cell_type": "code",
      "source": [],
      "metadata": {
        "id": "Jn80g9l-P3Rj"
      },
      "execution_count": null,
      "outputs": []
    },
    {
      "cell_type": "code",
      "source": [
        "root_data_dir = \"/content/network-data/\"\n",
        "\n",
        "node_a = []\n",
        "node_b = []\n",
        "\n",
        "files = os.listdir(root_data_dir)\n",
        "\n",
        "for f in files:\n",
        "\n",
        "  print('processing: ', f)\n",
        "\n",
        "  df = pd.read_csv(root_data_dir+f)\n",
        "  df = df.dropna()\n",
        "  df['from_addr_idx'] = df['from_address'].map(address_index)\n",
        "  df['to_addr_idx'] = df['to_address'].map(address_index)\n",
        "\n",
        "  df.value = df.value.astype('float')\n",
        "  df.value = df.value / 10**18\n",
        "\n",
        "  df = df.astype({'from_addr_idx': 'Int64', 'to_addr_idx': 'Int64'})\n",
        "\n",
        "  node_a.extend(df['from_addr_idx'].tolist())\n",
        "  node_b.extend(df['to_addr_idx'].tolist())\n",
        "\n",
        "  del df"
      ],
      "metadata": {
        "id": "g-LS8b3kZ4we"
      },
      "execution_count": null,
      "outputs": []
    },
    {
      "cell_type": "code",
      "source": [
        "with open('/content/node_a.lst', \"w\") as f:\n",
        "  for node in node_a:\n",
        "    f.write(str(node)+'\\n')"
      ],
      "metadata": {
        "id": "ftdkBPlssjOH"
      },
      "execution_count": null,
      "outputs": []
    },
    {
      "cell_type": "code",
      "source": [
        "with open('/content/node_b.lst', \"w\") as f:\n",
        "  for node in node_b:\n",
        "    f.write(str(node)+'\\n')"
      ],
      "metadata": {
        "id": "UZKbRr6ts3s6"
      },
      "execution_count": null,
      "outputs": []
    },
    {
      "cell_type": "code",
      "source": [
        "!cp /content/node_a.lst /content/address-data/node_data/"
      ],
      "metadata": {
        "id": "u-tO6tQqaGqO"
      },
      "execution_count": null,
      "outputs": []
    },
    {
      "cell_type": "code",
      "source": [
        "!cp /content/node_b.lst /content/address-data/node_data/"
      ],
      "metadata": {
        "id": "n4s3F6cvtmJE"
      },
      "execution_count": null,
      "outputs": []
    },
    {
      "cell_type": "code",
      "source": [
        "len(node_a), len(node_b)"
      ],
      "metadata": {
        "colab": {
          "base_uri": "https://localhost:8080/"
        },
        "id": "QPBEPFW0_D-X",
        "outputId": "1ceac5fb-0d23-453d-ed45-cb1b92822e02"
      },
      "execution_count": null,
      "outputs": [
        {
          "output_type": "execute_result",
          "data": {
            "text/plain": [
              "(77920823, 77920823)"
            ]
          },
          "metadata": {},
          "execution_count": 18
        }
      ]
    },
    {
      "cell_type": "code",
      "source": [
        "sys.getsizeof(node_a)/1024/1024 + sys.getsizeof(node_b)/1024/1024"
      ],
      "metadata": {
        "colab": {
          "base_uri": "https://localhost:8080/"
        },
        "id": "iPe9tBqWZ7Ga",
        "outputId": "693b3b33-bf39-4e95-af97-606f18121e13"
      },
      "execution_count": null,
      "outputs": [
        {
          "output_type": "execute_result",
          "data": {
            "text/plain": [
              "1317.0179290771484"
            ]
          },
          "metadata": {},
          "execution_count": 8
        },
        {
          "output_type": "execute_result",
          "data": {
            "text/plain": [
              "1317.0179290771484"
            ]
          },
          "metadata": {},
          "execution_count": 9
        }
      ]
    },
    {
      "cell_type": "code",
      "source": [
        "root_data_dir = \"/content/network-data/\"\n",
        "\n",
        "values = []\n",
        "\n",
        "files = os.listdir(root_data_dir)\n",
        "\n",
        "for f in files:\n",
        "\n",
        "  print('processing: ', f)\n",
        "\n",
        "  df = pd.read_csv(root_data_dir+f)\n",
        "  df = df.dropna()\n",
        "\n",
        "  df.value = df.value.astype('float')\n",
        "  df.value = df.value / 10**18\n",
        "\n",
        "  values.extend(df['value'].tolist())\n",
        "\n",
        "  del df"
      ],
      "metadata": {
        "id": "sCqWc5xNBHm0"
      },
      "execution_count": null,
      "outputs": []
    },
    {
      "cell_type": "code",
      "source": [
        "with open('/content/values.lst', \"w\") as f:\n",
        "  for val in values:\n",
        "    f.write(str(val)+'\\n')"
      ],
      "metadata": {
        "id": "Zz7x-5zcvN1W"
      },
      "execution_count": null,
      "outputs": []
    },
    {
      "cell_type": "code",
      "source": [
        "!head /content/values.lst"
      ],
      "metadata": {
        "id": "hpyRRFc-x9UG"
      },
      "execution_count": null,
      "outputs": []
    },
    {
      "cell_type": "code",
      "source": [
        "len(values)"
      ],
      "metadata": {
        "colab": {
          "base_uri": "https://localhost:8080/"
        },
        "id": "uKLBzaPdyBEK",
        "outputId": "87492dd9-6675-47b6-d067-03c36744f396"
      },
      "execution_count": null,
      "outputs": [
        {
          "output_type": "execute_result",
          "data": {
            "text/plain": [
              "77920823"
            ]
          },
          "metadata": {},
          "execution_count": 13
        }
      ]
    },
    {
      "cell_type": "code",
      "source": [
        "!cp /content/values.lst /content/address-data/edge_data/"
      ],
      "metadata": {
        "id": "Z76eWY6EyDtu"
      },
      "execution_count": null,
      "outputs": []
    },
    {
      "cell_type": "code",
      "source": [
        "root_data_dir = \"/content/network-data/\"\n",
        "\n",
        "timestamps = []\n",
        "\n",
        "files = os.listdir(root_data_dir)\n",
        "\n",
        "for f in files:\n",
        "\n",
        "  print('processing: ', f)\n",
        "\n",
        "  df = pd.read_csv(root_data_dir+f)\n",
        "  df = df.dropna()\n",
        "\n",
        "  df['tstamp'] =  pd.to_datetime(df['block_timestamp'], format='%Y-%m-%d %H:%M:%S UTC')\n",
        "  df['epochs'] = df['tstamp'].map(pd.Timestamp.timestamp).astype('int32')\n",
        "\n",
        "  timestamps.extend(df['epochs'].tolist())\n",
        "\n",
        "  del df"
      ],
      "metadata": {
        "id": "J-o5W1hQyuSj"
      },
      "execution_count": null,
      "outputs": []
    },
    {
      "cell_type": "code",
      "source": [
        "with open('/content/timestamps.lst', \"w\") as f:\n",
        "  for tstamp in timestamps:\n",
        "    f.write(str(tstamp)+'\\n')"
      ],
      "metadata": {
        "id": "e7oWA7muItTs"
      },
      "execution_count": null,
      "outputs": []
    },
    {
      "cell_type": "code",
      "source": [
        "!head /content/timestamps.lst"
      ],
      "metadata": {
        "id": "Or1n8tDPNl2M"
      },
      "execution_count": null,
      "outputs": []
    },
    {
      "cell_type": "code",
      "source": [
        "!cp /content/timestamps.lst /content/address-data/edge_data/"
      ],
      "metadata": {
        "id": "dXprpmgQNluX"
      },
      "execution_count": null,
      "outputs": []
    },
    {
      "cell_type": "code",
      "source": [
        "# df = pd.read_csv(\"/content/network-data/network-export-000000000000.csv\")\n",
        "# df['tstamp'] =  pd.to_datetime(df['block_timestamp'], format='%Y-%m-%d %H:%M:%S UTC')\n",
        "# df['epochs'] = df['tstamp'].map(pd.Timestamp.timestamp).astype('int32')\n",
        "# df.head()"
      ],
      "metadata": {
        "id": "RPQzH1P7yuQB"
      },
      "execution_count": null,
      "outputs": []
    },
    {
      "cell_type": "code",
      "source": [
        "def read_list(path, type):\n",
        "\n",
        "  with open(path, \"r\") as f:\n",
        "    lines = f.readlines()\n",
        "    result = [type(line) for line in lines]\n",
        "\n",
        "    return result    "
      ],
      "metadata": {
        "id": "msSpzldqyuNv"
      },
      "execution_count": null,
      "outputs": []
    },
    {
      "cell_type": "code",
      "source": [
        "node_a = read_list(\"/content/address-data/node_data/node_a.lst\", int)\n",
        "len(node_a)"
      ],
      "metadata": {
        "id": "QEJ34RKzyuJ0",
        "colab": {
          "base_uri": "https://localhost:8080/"
        },
        "outputId": "8b659160-edce-42ff-8c5e-c20e746a7016"
      },
      "execution_count": null,
      "outputs": [
        {
          "output_type": "execute_result",
          "data": {
            "text/plain": [
              "77920823"
            ]
          },
          "metadata": {},
          "execution_count": 39
        }
      ]
    },
    {
      "cell_type": "code",
      "source": [
        "node_b = read_list(\"/content/address-data/node_data/node_b.lst\", int)\n",
        "len(node_b)"
      ],
      "metadata": {
        "id": "G5jwjaBDyuGh",
        "colab": {
          "base_uri": "https://localhost:8080/"
        },
        "outputId": "d9ec2b8b-e320-4af3-afd3-fb7b89d57594"
      },
      "execution_count": null,
      "outputs": [
        {
          "output_type": "execute_result",
          "data": {
            "text/plain": [
              "77920823"
            ]
          },
          "metadata": {},
          "execution_count": 40
        }
      ]
    },
    {
      "cell_type": "code",
      "source": [
        "timestamps = read_list(\"/content/address-data/edge_data/timestamps.lst\", int)\n",
        "len(timestamps)"
      ],
      "metadata": {
        "colab": {
          "base_uri": "https://localhost:8080/"
        },
        "id": "5G2BsgUZSAwN",
        "outputId": "79cdf076-8e03-47c2-f482-7bef1cf84576"
      },
      "execution_count": null,
      "outputs": [
        {
          "output_type": "execute_result",
          "data": {
            "text/plain": [
              "77920823"
            ]
          },
          "metadata": {},
          "execution_count": 41
        }
      ]
    },
    {
      "cell_type": "code",
      "source": [
        "values = read_list(\"/content/address-data/edge_data/values.lst\", float)\n",
        "len(values)"
      ],
      "metadata": {
        "colab": {
          "base_uri": "https://localhost:8080/"
        },
        "id": "_m3i2YDbSJMT",
        "outputId": "7c150204-960b-48ec-dec1-609f7548e0e7"
      },
      "execution_count": null,
      "outputs": [
        {
          "output_type": "execute_result",
          "data": {
            "text/plain": [
              "77920823"
            ]
          },
          "metadata": {},
          "execution_count": 42
        }
      ]
    },
    {
      "cell_type": "markdown",
      "source": [
        "## Build the graph"
      ],
      "metadata": {
        "id": "VN_DTpPhjTco"
      }
    },
    {
      "cell_type": "code",
      "source": [
        "import torch\n",
        "from torch_geometric.data import Data\n",
        "\n",
        "num_nodes = len(address_index.keys())\n",
        "print('number of nodes: ', num_nodes)\n"
      ],
      "metadata": {
        "id": "2tovFaEBM59i",
        "colab": {
          "base_uri": "https://localhost:8080/"
        },
        "outputId": "60576918-2930-4891-8a17-a858cc81b3e6"
      },
      "execution_count": 8,
      "outputs": [
        {
          "output_type": "stream",
          "name": "stdout",
          "text": [
            "number of nodes:  1866\n"
          ]
        }
      ]
    },
    {
      "cell_type": "code",
      "source": [
        "edge_index = torch.tensor([node_a, node_b], dtype=torch.long)\n",
        "x = torch.tensor([[i] for i in range(num_nodes)], dtype=torch.float)"
      ],
      "metadata": {
        "id": "P0s0X_2Jaxmb"
      },
      "execution_count": 9,
      "outputs": []
    },
    {
      "cell_type": "code",
      "source": [
        "edge_attr = torch.tensor([timestamps, values])\n",
        "print(edge_attr.shape)\n",
        "edge_attr = edge_attr.transpose(0, 1)\n",
        "print(edge_attr.shape)"
      ],
      "metadata": {
        "colab": {
          "base_uri": "https://localhost:8080/"
        },
        "id": "gIcW1arjS1ue",
        "outputId": "a61ef4d2-25fa-4011-b42b-8b57cd6e4185"
      },
      "execution_count": 10,
      "outputs": [
        {
          "output_type": "stream",
          "name": "stdout",
          "text": [
            "torch.Size([2, 37702])\n",
            "torch.Size([37702, 2])\n"
          ]
        }
      ]
    },
    {
      "cell_type": "code",
      "source": [
        "data = Data(x=x, edge_index=edge_index, edge_attr=edge_attr)"
      ],
      "metadata": {
        "id": "4mEU_7JZTy9i"
      },
      "execution_count": 11,
      "outputs": []
    },
    {
      "cell_type": "code",
      "source": [
        "data.num_nodes"
      ],
      "metadata": {
        "colab": {
          "base_uri": "https://localhost:8080/"
        },
        "id": "jR_oG0DEUgUQ",
        "outputId": "ce153b2e-4ddc-4498-c039-5a0afe9439d8"
      },
      "execution_count": 12,
      "outputs": [
        {
          "output_type": "execute_result",
          "data": {
            "text/plain": [
              "1866"
            ]
          },
          "metadata": {},
          "execution_count": 12
        }
      ]
    },
    {
      "cell_type": "code",
      "source": [
        "data.num_edges"
      ],
      "metadata": {
        "colab": {
          "base_uri": "https://localhost:8080/"
        },
        "id": "mM0hCZGDUtf3",
        "outputId": "1e036f36-cbb3-492f-b8ef-506b34c2fc43"
      },
      "execution_count": null,
      "outputs": [
        {
          "output_type": "execute_result",
          "data": {
            "text/plain": [
              "11303"
            ]
          },
          "metadata": {},
          "execution_count": 72
        }
      ]
    },
    {
      "cell_type": "code",
      "source": [
        "data.num_node_features"
      ],
      "metadata": {
        "colab": {
          "base_uri": "https://localhost:8080/"
        },
        "id": "QTcX95IBUta0",
        "outputId": "0a8bbd08-2e1f-4e9b-e08e-ce308f408972"
      },
      "execution_count": null,
      "outputs": [
        {
          "output_type": "execute_result",
          "data": {
            "text/plain": [
              "1"
            ]
          },
          "metadata": {},
          "execution_count": 73
        }
      ]
    },
    {
      "cell_type": "code",
      "source": [
        "data.has_isolated_nodes()"
      ],
      "metadata": {
        "colab": {
          "base_uri": "https://localhost:8080/"
        },
        "id": "dmbNG_BjVz2r",
        "outputId": "a59d49db-ebeb-446c-865f-ee4e27dc96d0"
      },
      "execution_count": null,
      "outputs": [
        {
          "output_type": "execute_result",
          "data": {
            "text/plain": [
              "True"
            ]
          },
          "metadata": {},
          "execution_count": 38
        }
      ]
    },
    {
      "cell_type": "code",
      "source": [
        "data.has_self_loops()"
      ],
      "metadata": {
        "colab": {
          "base_uri": "https://localhost:8080/"
        },
        "id": "53ofwt2lV08R",
        "outputId": "4b4f784c-09dd-4975-c5a1-c074ce11fab2"
      },
      "execution_count": null,
      "outputs": [
        {
          "output_type": "execute_result",
          "data": {
            "text/plain": [
              "True"
            ]
          },
          "metadata": {},
          "execution_count": 74
        }
      ]
    },
    {
      "cell_type": "code",
      "source": [
        "data.is_directed()"
      ],
      "metadata": {
        "colab": {
          "base_uri": "https://localhost:8080/"
        },
        "id": "f2Fti9AbUtYy",
        "outputId": "bf42aff0-c2dd-4bae-a756-2f58f353dd69"
      },
      "execution_count": null,
      "outputs": [
        {
          "output_type": "execute_result",
          "data": {
            "text/plain": [
              "True"
            ]
          },
          "metadata": {},
          "execution_count": 75
        }
      ]
    },
    {
      "cell_type": "markdown",
      "source": [
        "### Save the graph"
      ],
      "metadata": {
        "id": "qQrx2AGzAbuE"
      }
    },
    {
      "cell_type": "code",
      "source": [
        "import pickle\n",
        "\n",
        "with open(\"/content/network.pkl\", \"wb\") as f:\n",
        "  pickle.dump(data, f)"
      ],
      "metadata": {
        "id": "U2pCPqedV-U-"
      },
      "execution_count": 21,
      "outputs": []
    },
    {
      "cell_type": "code",
      "source": [
        "!cp /content/network.pkl /content/network-data/graph/"
      ],
      "metadata": {
        "id": "uNAX2yt1WNZc"
      },
      "execution_count": 22,
      "outputs": []
    },
    {
      "cell_type": "code",
      "source": [
        "import pickle\n",
        "\n",
        "with open(\"/content/network.pkl\", \"r\") as f:\n",
        "  data = pickle.load(f)"
      ],
      "metadata": {
        "id": "I5akRxUartQH"
      },
      "execution_count": null,
      "outputs": []
    },
    {
      "cell_type": "markdown",
      "source": [
        "## Train models"
      ],
      "metadata": {
        "id": "LNJg_4BcXA_J"
      }
    },
    {
      "cell_type": "code",
      "source": [
        "models = []"
      ],
      "metadata": {
        "id": "qYQKVswJ8uJ_"
      },
      "execution_count": 58,
      "outputs": []
    },
    {
      "cell_type": "code",
      "source": [
        "# 1\n",
        "from pygod.models import AdONE\n",
        "\n",
        "model = AdONE()\n",
        "model.fit(data)\n",
        "models.append({\n",
        "    'model_name': 'AdONE',\n",
        "    'model': model    \n",
        "})"
      ],
      "metadata": {
        "id": "0_OCTli09HdH"
      },
      "execution_count": 59,
      "outputs": []
    },
    {
      "cell_type": "code",
      "source": [
        "# 2\n",
        "from pygod.models import ANOMALOUS\n",
        "\n",
        "model = ANOMALOUS()\n",
        "model.fit(data)\n",
        "models.append({\n",
        "    'model_name': 'ANOMALOUS',\n",
        "    'model': model    \n",
        "})"
      ],
      "metadata": {
        "id": "eBAW1a3_-bCU"
      },
      "execution_count": 60,
      "outputs": []
    },
    {
      "cell_type": "code",
      "source": [
        "# 3\n",
        "from pygod.models import CoLA\n",
        "\n",
        "model = CoLA()\n",
        "model.fit(data)\n",
        "models.append({\n",
        "    'model_name': 'CoLA',\n",
        "    'model': model    \n",
        "})"
      ],
      "metadata": {
        "id": "t6NW7Lfo-bG3"
      },
      "execution_count": 61,
      "outputs": []
    },
    {
      "cell_type": "code",
      "source": [
        "# 4\n",
        "from pygod.models import CONAD\n",
        "\n",
        "model = CONAD()\n",
        "model.fit(data)\n",
        "models.append({\n",
        "    'model_name': 'CONAD',\n",
        "    'model': model    \n",
        "})"
      ],
      "metadata": {
        "id": "8NVI30Y49-jx"
      },
      "execution_count": 62,
      "outputs": []
    },
    {
      "cell_type": "code",
      "source": [
        "# 5\n",
        "from pygod.models import DOMINANT\n",
        "\n",
        "model = DOMINANT(num_layers=4, epoch=20)\n",
        "model.fit(data)\n",
        "models.append({\n",
        "    'model_name': 'DOMINANT',\n",
        "    'model': model    \n",
        "})"
      ],
      "metadata": {
        "id": "ucZdRyH6XBTu"
      },
      "execution_count": 63,
      "outputs": []
    },
    {
      "cell_type": "code",
      "source": [
        "# 6\n",
        "from pygod.models import DONE\n",
        "\n",
        "model = DONE()\n",
        "model.fit(data)\n",
        "models.append({\n",
        "    'model_name': 'DONE',\n",
        "    'model': model    \n",
        "})"
      ],
      "metadata": {
        "id": "wlwO5cLS9-ml"
      },
      "execution_count": 64,
      "outputs": []
    },
    {
      "cell_type": "code",
      "source": [
        "# 7\n",
        "from pygod.models import GAAN\n",
        "\n",
        "model = GAAN()\n",
        "model.fit(data)\n",
        "models.append({\n",
        "    'model_name': 'GAAN',\n",
        "    'model': model    \n",
        "})"
      ],
      "metadata": {
        "id": "tBrGzTT69Hfq"
      },
      "execution_count": 65,
      "outputs": []
    },
    {
      "cell_type": "code",
      "source": [
        "# 8\n",
        "from pygod.models import GCNAE\n",
        "\n",
        "model = GCNAE()\n",
        "model.fit(data)\n",
        "models.append({\n",
        "    'model_name': 'GCNAE',\n",
        "    'model': model    \n",
        "})"
      ],
      "metadata": {
        "id": "gcpoTaBQ9Cxj"
      },
      "execution_count": 66,
      "outputs": []
    },
    {
      "cell_type": "code",
      "source": [
        "# 9\n",
        "from pygod.models import MLPAE\n",
        "\n",
        "model = MLPAE()\n",
        "model.fit(data)\n",
        "models.append({\n",
        "    'model_name': 'MLPAE',\n",
        "    'model': model    \n",
        "})"
      ],
      "metadata": {
        "id": "Ecp-1AnG90MX"
      },
      "execution_count": 68,
      "outputs": []
    },
    {
      "cell_type": "code",
      "source": [
        "# 10\n",
        "from pygod.models import Radar\n",
        "\n",
        "model = Radar()\n",
        "model.fit(data)\n",
        "models.append({\n",
        "    'model_name': 'Radar',\n",
        "    'model': model    \n",
        "})"
      ],
      "metadata": {
        "id": "T3wq528-9Ct3"
      },
      "execution_count": 70,
      "outputs": []
    },
    {
      "cell_type": "code",
      "source": [
        "# 11\n",
        "from pygod.models import SCAN\n",
        "\n",
        "model = SCAN()\n",
        "model.fit(data)\n",
        "models.append({\n",
        "    'model_name': 'SCAN',\n",
        "    'model': model    \n",
        "})"
      ],
      "metadata": {
        "id": "zpOtagxdbbqt"
      },
      "execution_count": 71,
      "outputs": []
    },
    {
      "cell_type": "code",
      "source": [
        "len(models)"
      ],
      "metadata": {
        "colab": {
          "base_uri": "https://localhost:8080/"
        },
        "id": "IoePyPDeCYbh",
        "outputId": "6062a54b-7476-4482-e7f9-50b04dbf9901"
      },
      "execution_count": 91,
      "outputs": [
        {
          "output_type": "execute_result",
          "data": {
            "text/plain": [
              "11"
            ]
          },
          "metadata": {},
          "execution_count": 91
        }
      ]
    },
    {
      "cell_type": "code",
      "source": [
        "models"
      ],
      "metadata": {
        "colab": {
          "base_uri": "https://localhost:8080/"
        },
        "id": "2xOyEKkpCa-6",
        "outputId": "a6b99d13-c1da-417e-d08e-8d6ea59cc114"
      },
      "execution_count": 73,
      "outputs": [
        {
          "output_type": "execute_result",
          "data": {
            "text/plain": [
              "[{'model_name': 'AdONE', 'model': AdONE(a1=0.2, a2=0.2, a3=0.2, a4=0.2, a5=0.2,\n",
              "     act=<function leaky_relu at 0x7ff8902cd940>, batch_size=1866,\n",
              "     contamination=0.1, dropout=0.0, epoch=5, gpu=None, hid_dim=32, lr=0.005,\n",
              "     num_layers=4, num_neigh=-1, verbose=False, weight_decay=0.0)},\n",
              " {'model_name': 'ANOMALOUS',\n",
              "  'model': ANOMALOUS(contamination=0.1, epoch=100, gamma=1.0, gpu=None, lr=0.004,\n",
              "       verbose=False, weight_decay=0.01)},\n",
              " {'model_name': 'CoLA',\n",
              "  'model': CoLA(batch_size=0, contamination=0.1, embedding_dim=64, epoch=None, gpu=None,\n",
              "     lr=0.001, negsamp_ratio=1, readout='avg', subgraph_size=4,\n",
              "     verbose=False, weight_decay=0.0)},\n",
              " {'model_name': 'CONAD',\n",
              "  'model': CONAD(act=<function relu at 0x7ff8902cd550>, alpha=tensor(0.0157),\n",
              "     batch_size=1866, contamination=0.1, dropout=0.3, epoch=5, eta=0.5, f=10,\n",
              "     gpu=None, hid_dim=64, k=50, lr=0.005, m=50, margin=None, num_layers=4,\n",
              "     num_neigh=-1, r=0.2, verbose=False, weight_decay=0.0)},\n",
              " {'model_name': 'DOMINANT',\n",
              "  'model': DOMINANT(act=<function relu at 0x7ff8902cd550>, alpha=tensor(0.0157),\n",
              "       batch_size=1866, contamination=0.1, dropout=0.3, epoch=20, gpu=None,\n",
              "       hid_dim=64, lr=0.005, num_layers=4, num_neigh=-1, verbose=False,\n",
              "       weight_decay=0.0)},\n",
              " {'model_name': 'DONE', 'model': DONE(a1=0.2, a2=0.2, a3=0.2, a4=0.2, a5=0.2,\n",
              "     act=<function leaky_relu at 0x7ff8902cd940>, batch_size=1866,\n",
              "     contamination=0.1, dropout=0.0, epoch=5, gpu=None, hid_dim=32, lr=0.005,\n",
              "     num_layers=4, num_neigh=-1, verbose=False, weight_decay=0.0)},\n",
              " {'model_name': 'GAAN',\n",
              "  'model': GAAN(act=<function relu at 0x7ff8902cd550>, alpha=tensor(0.0157),\n",
              "     batch_size=1866, contamination=0.1, dropout=0.1, encoder_layers=2,\n",
              "     epoch=5, generator_layers=2, gpu=None, hid_dim=64, lr=0.01,\n",
              "     noise_dim=16, num_neigh=-1, verbose=False, weight_decay=0.01)},\n",
              " {'model_name': 'GCNAE',\n",
              "  'model': GCNAE(act=<function relu at 0x7ff8902cd550>, batch_size=1866,\n",
              "     contamination=0.1, dropout=0.3, epoch=100, gpu=None, hid_dim=64,\n",
              "     lr=0.005, num_layers=4, num_neigh=-1, verbose=False, weight_decay=0.0)},\n",
              " {'model_name': 'MLPAE',\n",
              "  'model': MLPAE(act=<function relu at 0x7ff8902cd550>, batch_size=1866,\n",
              "     contamination=0.1, dropout=0.3, epoch=5, gpu=None, hid_dim=64, lr=0.005,\n",
              "     num_layers=4, verbose=False, weight_decay=0.0)},\n",
              " {'model_name': 'Radar',\n",
              "  'model': Radar(contamination=0.1, epoch=100, gamma=1.0, gpu=None, lr=0.004,\n",
              "     verbose=False, weight_decay=0.01)},\n",
              " {'model_name': 'SCAN',\n",
              "  'model': SCAN(contamination=0.1, eps=0.5, mu=2, verbose=False)}]"
            ]
          },
          "metadata": {},
          "execution_count": 73
        }
      ]
    },
    {
      "cell_type": "code",
      "source": [
        "import pandas as pd\n",
        "\n",
        "output_df = pd.DataFrame()\n",
        "output_df['address'] = selected_addr_list\n",
        "output_df"
      ],
      "metadata": {
        "colab": {
          "base_uri": "https://localhost:8080/",
          "height": 424
        },
        "id": "J2VnmX1-Cnnr",
        "outputId": "e0c29c72-7396-43bd-a536-9d99dac6adcb"
      },
      "execution_count": 87,
      "outputs": [
        {
          "output_type": "execute_result",
          "data": {
            "text/plain": [
              "                                       address\n",
              "0   0xbcb38d60623f688badfe019b1d0ef73fd9ea34dc\n",
              "1   0x09004228e526e9a42d71495cc1ada467b89dd5d9\n",
              "2   0x6db4349c2bbdee525e080f63096fc30754cd95d9\n",
              "3   0x5454c084e0f96ed65a84f3b36f9fcd39f4263902\n",
              "4   0xa746d613d9b3a267ad470e5ce980dbc12473247c\n",
              "..                                         ...\n",
              "95  0x09b2a7b5a3c2c292109c521b4cd491f3ec0a5072\n",
              "96  0xc62662194e68738cd504ecf837c25b67faefa659\n",
              "97  0x4a723c29e6a8c998459faeb56fbaf7f98ad14751\n",
              "98  0x2b260d70b726b644299af03fe60a646d9df537ad\n",
              "99  0xe432d9a9be076334474a6a35ede39b278686f923\n",
              "\n",
              "[100 rows x 1 columns]"
            ],
            "text/html": [
              "\n",
              "  <div id=\"df-febf2be2-2144-41ca-bc4d-1f586192a449\">\n",
              "    <div class=\"colab-df-container\">\n",
              "      <div>\n",
              "<style scoped>\n",
              "    .dataframe tbody tr th:only-of-type {\n",
              "        vertical-align: middle;\n",
              "    }\n",
              "\n",
              "    .dataframe tbody tr th {\n",
              "        vertical-align: top;\n",
              "    }\n",
              "\n",
              "    .dataframe thead th {\n",
              "        text-align: right;\n",
              "    }\n",
              "</style>\n",
              "<table border=\"1\" class=\"dataframe\">\n",
              "  <thead>\n",
              "    <tr style=\"text-align: right;\">\n",
              "      <th></th>\n",
              "      <th>address</th>\n",
              "    </tr>\n",
              "  </thead>\n",
              "  <tbody>\n",
              "    <tr>\n",
              "      <th>0</th>\n",
              "      <td>0xbcb38d60623f688badfe019b1d0ef73fd9ea34dc</td>\n",
              "    </tr>\n",
              "    <tr>\n",
              "      <th>1</th>\n",
              "      <td>0x09004228e526e9a42d71495cc1ada467b89dd5d9</td>\n",
              "    </tr>\n",
              "    <tr>\n",
              "      <th>2</th>\n",
              "      <td>0x6db4349c2bbdee525e080f63096fc30754cd95d9</td>\n",
              "    </tr>\n",
              "    <tr>\n",
              "      <th>3</th>\n",
              "      <td>0x5454c084e0f96ed65a84f3b36f9fcd39f4263902</td>\n",
              "    </tr>\n",
              "    <tr>\n",
              "      <th>4</th>\n",
              "      <td>0xa746d613d9b3a267ad470e5ce980dbc12473247c</td>\n",
              "    </tr>\n",
              "    <tr>\n",
              "      <th>...</th>\n",
              "      <td>...</td>\n",
              "    </tr>\n",
              "    <tr>\n",
              "      <th>95</th>\n",
              "      <td>0x09b2a7b5a3c2c292109c521b4cd491f3ec0a5072</td>\n",
              "    </tr>\n",
              "    <tr>\n",
              "      <th>96</th>\n",
              "      <td>0xc62662194e68738cd504ecf837c25b67faefa659</td>\n",
              "    </tr>\n",
              "    <tr>\n",
              "      <th>97</th>\n",
              "      <td>0x4a723c29e6a8c998459faeb56fbaf7f98ad14751</td>\n",
              "    </tr>\n",
              "    <tr>\n",
              "      <th>98</th>\n",
              "      <td>0x2b260d70b726b644299af03fe60a646d9df537ad</td>\n",
              "    </tr>\n",
              "    <tr>\n",
              "      <th>99</th>\n",
              "      <td>0xe432d9a9be076334474a6a35ede39b278686f923</td>\n",
              "    </tr>\n",
              "  </tbody>\n",
              "</table>\n",
              "<p>100 rows × 1 columns</p>\n",
              "</div>\n",
              "      <button class=\"colab-df-convert\" onclick=\"convertToInteractive('df-febf2be2-2144-41ca-bc4d-1f586192a449')\"\n",
              "              title=\"Convert this dataframe to an interactive table.\"\n",
              "              style=\"display:none;\">\n",
              "        \n",
              "  <svg xmlns=\"http://www.w3.org/2000/svg\" height=\"24px\"viewBox=\"0 0 24 24\"\n",
              "       width=\"24px\">\n",
              "    <path d=\"M0 0h24v24H0V0z\" fill=\"none\"/>\n",
              "    <path d=\"M18.56 5.44l.94 2.06.94-2.06 2.06-.94-2.06-.94-.94-2.06-.94 2.06-2.06.94zm-11 1L8.5 8.5l.94-2.06 2.06-.94-2.06-.94L8.5 2.5l-.94 2.06-2.06.94zm10 10l.94 2.06.94-2.06 2.06-.94-2.06-.94-.94-2.06-.94 2.06-2.06.94z\"/><path d=\"M17.41 7.96l-1.37-1.37c-.4-.4-.92-.59-1.43-.59-.52 0-1.04.2-1.43.59L10.3 9.45l-7.72 7.72c-.78.78-.78 2.05 0 2.83L4 21.41c.39.39.9.59 1.41.59.51 0 1.02-.2 1.41-.59l7.78-7.78 2.81-2.81c.8-.78.8-2.07 0-2.86zM5.41 20L4 18.59l7.72-7.72 1.47 1.35L5.41 20z\"/>\n",
              "  </svg>\n",
              "      </button>\n",
              "      \n",
              "  <style>\n",
              "    .colab-df-container {\n",
              "      display:flex;\n",
              "      flex-wrap:wrap;\n",
              "      gap: 12px;\n",
              "    }\n",
              "\n",
              "    .colab-df-convert {\n",
              "      background-color: #E8F0FE;\n",
              "      border: none;\n",
              "      border-radius: 50%;\n",
              "      cursor: pointer;\n",
              "      display: none;\n",
              "      fill: #1967D2;\n",
              "      height: 32px;\n",
              "      padding: 0 0 0 0;\n",
              "      width: 32px;\n",
              "    }\n",
              "\n",
              "    .colab-df-convert:hover {\n",
              "      background-color: #E2EBFA;\n",
              "      box-shadow: 0px 1px 2px rgba(60, 64, 67, 0.3), 0px 1px 3px 1px rgba(60, 64, 67, 0.15);\n",
              "      fill: #174EA6;\n",
              "    }\n",
              "\n",
              "    [theme=dark] .colab-df-convert {\n",
              "      background-color: #3B4455;\n",
              "      fill: #D2E3FC;\n",
              "    }\n",
              "\n",
              "    [theme=dark] .colab-df-convert:hover {\n",
              "      background-color: #434B5C;\n",
              "      box-shadow: 0px 1px 3px 1px rgba(0, 0, 0, 0.15);\n",
              "      filter: drop-shadow(0px 1px 2px rgba(0, 0, 0, 0.3));\n",
              "      fill: #FFFFFF;\n",
              "    }\n",
              "  </style>\n",
              "\n",
              "      <script>\n",
              "        const buttonEl =\n",
              "          document.querySelector('#df-febf2be2-2144-41ca-bc4d-1f586192a449 button.colab-df-convert');\n",
              "        buttonEl.style.display =\n",
              "          google.colab.kernel.accessAllowed ? 'block' : 'none';\n",
              "\n",
              "        async function convertToInteractive(key) {\n",
              "          const element = document.querySelector('#df-febf2be2-2144-41ca-bc4d-1f586192a449');\n",
              "          const dataTable =\n",
              "            await google.colab.kernel.invokeFunction('convertToInteractive',\n",
              "                                                     [key], {});\n",
              "          if (!dataTable) return;\n",
              "\n",
              "          const docLinkHtml = 'Like what you see? Visit the ' +\n",
              "            '<a target=\"_blank\" href=https://colab.research.google.com/notebooks/data_table.ipynb>data table notebook</a>'\n",
              "            + ' to learn more about interactive tables.';\n",
              "          element.innerHTML = '';\n",
              "          dataTable['output_type'] = 'display_data';\n",
              "          await google.colab.output.renderOutput(dataTable, element);\n",
              "          const docLink = document.createElement('div');\n",
              "          docLink.innerHTML = docLinkHtml;\n",
              "          element.appendChild(docLink);\n",
              "        }\n",
              "      </script>\n",
              "    </div>\n",
              "  </div>\n",
              "  "
            ]
          },
          "metadata": {},
          "execution_count": 87
        }
      ]
    },
    {
      "cell_type": "code",
      "source": [
        "node_label = []\n",
        "\n",
        "for addr in selected_addr_list:\n",
        "  node_label.append(flags[addr])\n",
        "\n",
        "output_df['label'] = node_label"
      ],
      "metadata": {
        "id": "dwAcRxSLEHxy"
      },
      "execution_count": 88,
      "outputs": []
    },
    {
      "cell_type": "code",
      "source": [
        "for model in models:\n",
        "  prediction = model['model'].predict_proba(data, method='unify')\n",
        "  output_df[model['model_name']] = prediction[:100,1]\n",
        "\n",
        "output_df"
      ],
      "metadata": {
        "colab": {
          "base_uri": "https://localhost:8080/",
          "height": 670
        },
        "id": "a-OB0DWQ_9h4",
        "outputId": "6a9bf222-9733-4cf9-ee6c-79f0e5422884"
      },
      "execution_count": 89,
      "outputs": [
        {
          "output_type": "stream",
          "name": "stderr",
          "text": [
            "/usr/local/lib/python3.8/dist-packages/pygod/models/anomalous.py:143: UserWarning: The model is transductive only. Training data is used to predict\n",
            "  warnings.warn('The model is transductive only. '\n",
            "/usr/local/lib/python3.8/dist-packages/pygod/models/cola.py:293: RuntimeWarning: divide by zero encountered in power\n",
            "  d_inv_sqrt = np.power(rowsum, -0.5).flatten()\n",
            "/usr/local/lib/python3.8/dist-packages/pygod/models/gaan.py:239: UserWarning: The model is transductive only. Training data is used to predict\n",
            "  warnings.warn('The model is transductive only. '\n",
            "/usr/local/lib/python3.8/dist-packages/pygod/models/radar.py:142: UserWarning: The model is transductive only. Training data is used to predict\n",
            "  warnings.warn('The model is transductive only. '\n",
            "/usr/local/lib/python3.8/dist-packages/pygod/models/scan.py:186: UserWarning: The model is transductive only. Training data is used to predict\n",
            "  warnings.warn('The model is transductive only. '\n"
          ]
        },
        {
          "output_type": "execute_result",
          "data": {
            "text/plain": [
              "                                       address  label     AdONE  ANOMALOUS  \\\n",
              "0   0xbcb38d60623f688badfe019b1d0ef73fd9ea34dc      0  1.000000        0.0   \n",
              "1   0x09004228e526e9a42d71495cc1ada467b89dd5d9      0  0.000000        0.0   \n",
              "2   0x6db4349c2bbdee525e080f63096fc30754cd95d9      0  0.000000        0.0   \n",
              "3   0x5454c084e0f96ed65a84f3b36f9fcd39f4263902      0  0.087058        0.0   \n",
              "4   0xa746d613d9b3a267ad470e5ce980dbc12473247c      1  0.000000        0.0   \n",
              "..                                         ...    ...       ...        ...   \n",
              "95  0x09b2a7b5a3c2c292109c521b4cd491f3ec0a5072      0  0.000000        0.0   \n",
              "96  0xc62662194e68738cd504ecf837c25b67faefa659      0  0.000000        0.0   \n",
              "97  0x4a723c29e6a8c998459faeb56fbaf7f98ad14751      0  0.000000        0.0   \n",
              "98  0x2b260d70b726b644299af03fe60a646d9df537ad      0  0.000000        0.0   \n",
              "99  0xe432d9a9be076334474a6a35ede39b278686f923      1  0.000000        0.0   \n",
              "\n",
              "        CoLA     CONAD  DOMINANT      DONE  GAAN     GCNAE  MLPAE  Radar  \\\n",
              "0   0.032322  1.000000  0.999983  1.000000   0.0  1.000000    0.0    0.0   \n",
              "1   0.032322  0.000000  0.000000  0.000000   0.0  0.000000    0.0    0.0   \n",
              "2   0.032322  0.000000  0.000000  0.000000   0.0  0.000000    0.0    0.0   \n",
              "3   0.032322  0.999876  0.505755  0.065332   0.0  0.653134    0.0    0.0   \n",
              "4   1.000000  0.000000  0.000000  0.000000   0.0  0.000000    0.0    0.0   \n",
              "..       ...       ...       ...       ...   ...       ...    ...    ...   \n",
              "95  0.032322  0.818003  0.000000  0.000000   0.0  0.000000    0.0    0.0   \n",
              "96  0.032322  0.999994  0.644736  0.000000   0.0  0.793085    0.0    0.0   \n",
              "97  0.032322  0.286015  0.000000  0.000000   0.0  0.000000    0.0    0.0   \n",
              "98  0.032322  0.452573  0.000000  0.000000   0.0  0.000000    0.0    0.0   \n",
              "99  0.032322  0.629916  0.000000  0.000000   0.0  0.000000    0.0    0.0   \n",
              "\n",
              "       SCAN  \n",
              "0   0.00000  \n",
              "1   0.00000  \n",
              "2   0.00000  \n",
              "3   0.00000  \n",
              "4   0.00000  \n",
              "..      ...  \n",
              "95  0.00000  \n",
              "96  0.00000  \n",
              "97  0.99812  \n",
              "98  0.00000  \n",
              "99  0.00000  \n",
              "\n",
              "[100 rows x 13 columns]"
            ],
            "text/html": [
              "\n",
              "  <div id=\"df-08447427-8a1f-408e-9bb1-4a5568704064\">\n",
              "    <div class=\"colab-df-container\">\n",
              "      <div>\n",
              "<style scoped>\n",
              "    .dataframe tbody tr th:only-of-type {\n",
              "        vertical-align: middle;\n",
              "    }\n",
              "\n",
              "    .dataframe tbody tr th {\n",
              "        vertical-align: top;\n",
              "    }\n",
              "\n",
              "    .dataframe thead th {\n",
              "        text-align: right;\n",
              "    }\n",
              "</style>\n",
              "<table border=\"1\" class=\"dataframe\">\n",
              "  <thead>\n",
              "    <tr style=\"text-align: right;\">\n",
              "      <th></th>\n",
              "      <th>address</th>\n",
              "      <th>label</th>\n",
              "      <th>AdONE</th>\n",
              "      <th>ANOMALOUS</th>\n",
              "      <th>CoLA</th>\n",
              "      <th>CONAD</th>\n",
              "      <th>DOMINANT</th>\n",
              "      <th>DONE</th>\n",
              "      <th>GAAN</th>\n",
              "      <th>GCNAE</th>\n",
              "      <th>MLPAE</th>\n",
              "      <th>Radar</th>\n",
              "      <th>SCAN</th>\n",
              "    </tr>\n",
              "  </thead>\n",
              "  <tbody>\n",
              "    <tr>\n",
              "      <th>0</th>\n",
              "      <td>0xbcb38d60623f688badfe019b1d0ef73fd9ea34dc</td>\n",
              "      <td>0</td>\n",
              "      <td>1.000000</td>\n",
              "      <td>0.0</td>\n",
              "      <td>0.032322</td>\n",
              "      <td>1.000000</td>\n",
              "      <td>0.999983</td>\n",
              "      <td>1.000000</td>\n",
              "      <td>0.0</td>\n",
              "      <td>1.000000</td>\n",
              "      <td>0.0</td>\n",
              "      <td>0.0</td>\n",
              "      <td>0.00000</td>\n",
              "    </tr>\n",
              "    <tr>\n",
              "      <th>1</th>\n",
              "      <td>0x09004228e526e9a42d71495cc1ada467b89dd5d9</td>\n",
              "      <td>0</td>\n",
              "      <td>0.000000</td>\n",
              "      <td>0.0</td>\n",
              "      <td>0.032322</td>\n",
              "      <td>0.000000</td>\n",
              "      <td>0.000000</td>\n",
              "      <td>0.000000</td>\n",
              "      <td>0.0</td>\n",
              "      <td>0.000000</td>\n",
              "      <td>0.0</td>\n",
              "      <td>0.0</td>\n",
              "      <td>0.00000</td>\n",
              "    </tr>\n",
              "    <tr>\n",
              "      <th>2</th>\n",
              "      <td>0x6db4349c2bbdee525e080f63096fc30754cd95d9</td>\n",
              "      <td>0</td>\n",
              "      <td>0.000000</td>\n",
              "      <td>0.0</td>\n",
              "      <td>0.032322</td>\n",
              "      <td>0.000000</td>\n",
              "      <td>0.000000</td>\n",
              "      <td>0.000000</td>\n",
              "      <td>0.0</td>\n",
              "      <td>0.000000</td>\n",
              "      <td>0.0</td>\n",
              "      <td>0.0</td>\n",
              "      <td>0.00000</td>\n",
              "    </tr>\n",
              "    <tr>\n",
              "      <th>3</th>\n",
              "      <td>0x5454c084e0f96ed65a84f3b36f9fcd39f4263902</td>\n",
              "      <td>0</td>\n",
              "      <td>0.087058</td>\n",
              "      <td>0.0</td>\n",
              "      <td>0.032322</td>\n",
              "      <td>0.999876</td>\n",
              "      <td>0.505755</td>\n",
              "      <td>0.065332</td>\n",
              "      <td>0.0</td>\n",
              "      <td>0.653134</td>\n",
              "      <td>0.0</td>\n",
              "      <td>0.0</td>\n",
              "      <td>0.00000</td>\n",
              "    </tr>\n",
              "    <tr>\n",
              "      <th>4</th>\n",
              "      <td>0xa746d613d9b3a267ad470e5ce980dbc12473247c</td>\n",
              "      <td>1</td>\n",
              "      <td>0.000000</td>\n",
              "      <td>0.0</td>\n",
              "      <td>1.000000</td>\n",
              "      <td>0.000000</td>\n",
              "      <td>0.000000</td>\n",
              "      <td>0.000000</td>\n",
              "      <td>0.0</td>\n",
              "      <td>0.000000</td>\n",
              "      <td>0.0</td>\n",
              "      <td>0.0</td>\n",
              "      <td>0.00000</td>\n",
              "    </tr>\n",
              "    <tr>\n",
              "      <th>...</th>\n",
              "      <td>...</td>\n",
              "      <td>...</td>\n",
              "      <td>...</td>\n",
              "      <td>...</td>\n",
              "      <td>...</td>\n",
              "      <td>...</td>\n",
              "      <td>...</td>\n",
              "      <td>...</td>\n",
              "      <td>...</td>\n",
              "      <td>...</td>\n",
              "      <td>...</td>\n",
              "      <td>...</td>\n",
              "      <td>...</td>\n",
              "    </tr>\n",
              "    <tr>\n",
              "      <th>95</th>\n",
              "      <td>0x09b2a7b5a3c2c292109c521b4cd491f3ec0a5072</td>\n",
              "      <td>0</td>\n",
              "      <td>0.000000</td>\n",
              "      <td>0.0</td>\n",
              "      <td>0.032322</td>\n",
              "      <td>0.818003</td>\n",
              "      <td>0.000000</td>\n",
              "      <td>0.000000</td>\n",
              "      <td>0.0</td>\n",
              "      <td>0.000000</td>\n",
              "      <td>0.0</td>\n",
              "      <td>0.0</td>\n",
              "      <td>0.00000</td>\n",
              "    </tr>\n",
              "    <tr>\n",
              "      <th>96</th>\n",
              "      <td>0xc62662194e68738cd504ecf837c25b67faefa659</td>\n",
              "      <td>0</td>\n",
              "      <td>0.000000</td>\n",
              "      <td>0.0</td>\n",
              "      <td>0.032322</td>\n",
              "      <td>0.999994</td>\n",
              "      <td>0.644736</td>\n",
              "      <td>0.000000</td>\n",
              "      <td>0.0</td>\n",
              "      <td>0.793085</td>\n",
              "      <td>0.0</td>\n",
              "      <td>0.0</td>\n",
              "      <td>0.00000</td>\n",
              "    </tr>\n",
              "    <tr>\n",
              "      <th>97</th>\n",
              "      <td>0x4a723c29e6a8c998459faeb56fbaf7f98ad14751</td>\n",
              "      <td>0</td>\n",
              "      <td>0.000000</td>\n",
              "      <td>0.0</td>\n",
              "      <td>0.032322</td>\n",
              "      <td>0.286015</td>\n",
              "      <td>0.000000</td>\n",
              "      <td>0.000000</td>\n",
              "      <td>0.0</td>\n",
              "      <td>0.000000</td>\n",
              "      <td>0.0</td>\n",
              "      <td>0.0</td>\n",
              "      <td>0.99812</td>\n",
              "    </tr>\n",
              "    <tr>\n",
              "      <th>98</th>\n",
              "      <td>0x2b260d70b726b644299af03fe60a646d9df537ad</td>\n",
              "      <td>0</td>\n",
              "      <td>0.000000</td>\n",
              "      <td>0.0</td>\n",
              "      <td>0.032322</td>\n",
              "      <td>0.452573</td>\n",
              "      <td>0.000000</td>\n",
              "      <td>0.000000</td>\n",
              "      <td>0.0</td>\n",
              "      <td>0.000000</td>\n",
              "      <td>0.0</td>\n",
              "      <td>0.0</td>\n",
              "      <td>0.00000</td>\n",
              "    </tr>\n",
              "    <tr>\n",
              "      <th>99</th>\n",
              "      <td>0xe432d9a9be076334474a6a35ede39b278686f923</td>\n",
              "      <td>1</td>\n",
              "      <td>0.000000</td>\n",
              "      <td>0.0</td>\n",
              "      <td>0.032322</td>\n",
              "      <td>0.629916</td>\n",
              "      <td>0.000000</td>\n",
              "      <td>0.000000</td>\n",
              "      <td>0.0</td>\n",
              "      <td>0.000000</td>\n",
              "      <td>0.0</td>\n",
              "      <td>0.0</td>\n",
              "      <td>0.00000</td>\n",
              "    </tr>\n",
              "  </tbody>\n",
              "</table>\n",
              "<p>100 rows × 13 columns</p>\n",
              "</div>\n",
              "      <button class=\"colab-df-convert\" onclick=\"convertToInteractive('df-08447427-8a1f-408e-9bb1-4a5568704064')\"\n",
              "              title=\"Convert this dataframe to an interactive table.\"\n",
              "              style=\"display:none;\">\n",
              "        \n",
              "  <svg xmlns=\"http://www.w3.org/2000/svg\" height=\"24px\"viewBox=\"0 0 24 24\"\n",
              "       width=\"24px\">\n",
              "    <path d=\"M0 0h24v24H0V0z\" fill=\"none\"/>\n",
              "    <path d=\"M18.56 5.44l.94 2.06.94-2.06 2.06-.94-2.06-.94-.94-2.06-.94 2.06-2.06.94zm-11 1L8.5 8.5l.94-2.06 2.06-.94-2.06-.94L8.5 2.5l-.94 2.06-2.06.94zm10 10l.94 2.06.94-2.06 2.06-.94-2.06-.94-.94-2.06-.94 2.06-2.06.94z\"/><path d=\"M17.41 7.96l-1.37-1.37c-.4-.4-.92-.59-1.43-.59-.52 0-1.04.2-1.43.59L10.3 9.45l-7.72 7.72c-.78.78-.78 2.05 0 2.83L4 21.41c.39.39.9.59 1.41.59.51 0 1.02-.2 1.41-.59l7.78-7.78 2.81-2.81c.8-.78.8-2.07 0-2.86zM5.41 20L4 18.59l7.72-7.72 1.47 1.35L5.41 20z\"/>\n",
              "  </svg>\n",
              "      </button>\n",
              "      \n",
              "  <style>\n",
              "    .colab-df-container {\n",
              "      display:flex;\n",
              "      flex-wrap:wrap;\n",
              "      gap: 12px;\n",
              "    }\n",
              "\n",
              "    .colab-df-convert {\n",
              "      background-color: #E8F0FE;\n",
              "      border: none;\n",
              "      border-radius: 50%;\n",
              "      cursor: pointer;\n",
              "      display: none;\n",
              "      fill: #1967D2;\n",
              "      height: 32px;\n",
              "      padding: 0 0 0 0;\n",
              "      width: 32px;\n",
              "    }\n",
              "\n",
              "    .colab-df-convert:hover {\n",
              "      background-color: #E2EBFA;\n",
              "      box-shadow: 0px 1px 2px rgba(60, 64, 67, 0.3), 0px 1px 3px 1px rgba(60, 64, 67, 0.15);\n",
              "      fill: #174EA6;\n",
              "    }\n",
              "\n",
              "    [theme=dark] .colab-df-convert {\n",
              "      background-color: #3B4455;\n",
              "      fill: #D2E3FC;\n",
              "    }\n",
              "\n",
              "    [theme=dark] .colab-df-convert:hover {\n",
              "      background-color: #434B5C;\n",
              "      box-shadow: 0px 1px 3px 1px rgba(0, 0, 0, 0.15);\n",
              "      filter: drop-shadow(0px 1px 2px rgba(0, 0, 0, 0.3));\n",
              "      fill: #FFFFFF;\n",
              "    }\n",
              "  </style>\n",
              "\n",
              "      <script>\n",
              "        const buttonEl =\n",
              "          document.querySelector('#df-08447427-8a1f-408e-9bb1-4a5568704064 button.colab-df-convert');\n",
              "        buttonEl.style.display =\n",
              "          google.colab.kernel.accessAllowed ? 'block' : 'none';\n",
              "\n",
              "        async function convertToInteractive(key) {\n",
              "          const element = document.querySelector('#df-08447427-8a1f-408e-9bb1-4a5568704064');\n",
              "          const dataTable =\n",
              "            await google.colab.kernel.invokeFunction('convertToInteractive',\n",
              "                                                     [key], {});\n",
              "          if (!dataTable) return;\n",
              "\n",
              "          const docLinkHtml = 'Like what you see? Visit the ' +\n",
              "            '<a target=\"_blank\" href=https://colab.research.google.com/notebooks/data_table.ipynb>data table notebook</a>'\n",
              "            + ' to learn more about interactive tables.';\n",
              "          element.innerHTML = '';\n",
              "          dataTable['output_type'] = 'display_data';\n",
              "          await google.colab.output.renderOutput(dataTable, element);\n",
              "          const docLink = document.createElement('div');\n",
              "          docLink.innerHTML = docLinkHtml;\n",
              "          element.appendChild(docLink);\n",
              "        }\n",
              "      </script>\n",
              "    </div>\n",
              "  </div>\n",
              "  "
            ]
          },
          "metadata": {},
          "execution_count": 89
        }
      ]
    },
    {
      "cell_type": "code",
      "source": [
        "output_df.to_csv(\"node_outlier_scores.csv\", sep='\\t', header=True, index=False)"
      ],
      "metadata": {
        "id": "_Z2sOdWTDx9T"
      },
      "execution_count": 90,
      "outputs": []
    },
    {
      "cell_type": "code",
      "source": [],
      "metadata": {
        "id": "kZxbnZK4ccSl"
      },
      "execution_count": 20,
      "outputs": []
    }
  ]
}